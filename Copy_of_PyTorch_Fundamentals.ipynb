{
  "nbformat": 4,
  "nbformat_minor": 0,
  "metadata": {
    "colab": {
      "provenance": []
    },
    "kernelspec": {
      "name": "python3",
      "display_name": "Python 3"
    },
    "language_info": {
      "name": "python"
    }
  },
  "cells": [
    {
      "cell_type": "code",
      "execution_count": null,
      "metadata": {
        "colab": {
          "base_uri": "https://localhost:8080/"
        },
        "id": "WgSbU3omWpyh",
        "outputId": "e571a788-c795-4a01-fbcd-d1e9628e866e"
      },
      "outputs": [
        {
          "output_type": "stream",
          "name": "stdout",
          "text": [
            "/bin/bash: line 1: nvidia-smi: command not found\n"
          ]
        }
      ],
      "source": [
        "!nvidia-smi"
      ]
    },
    {
      "cell_type": "code",
      "source": [
        "import torch\n",
        "import pandas as pd\n",
        "import numpy as np\n",
        "import matplotlib.pyplot as plt\n",
        "print(torch.__version__)"
      ],
      "metadata": {
        "colab": {
          "base_uri": "https://localhost:8080/"
        },
        "id": "ED4xo3zgYpWs",
        "outputId": "b4acdc53-3166-4c86-fdff-4afe1d2e5b41"
      },
      "execution_count": null,
      "outputs": [
        {
          "output_type": "stream",
          "name": "stdout",
          "text": [
            "2.1.0+cu121\n"
          ]
        }
      ]
    },
    {
      "cell_type": "markdown",
      "source": [
        "## Intro to Tensors\n",
        "\n",
        "# Creating Tensors"
      ],
      "metadata": {
        "id": "0gLsiKE7ZL06"
      }
    },
    {
      "cell_type": "code",
      "source": [
        "# Scalar Tensor\n",
        "scalar = torch.tensor(7)\n",
        "scalar"
      ],
      "metadata": {
        "colab": {
          "base_uri": "https://localhost:8080/"
        },
        "id": "TYII0jJ5ZoW4",
        "outputId": "15c11f0f-4bb7-4138-ab72-85272411a135"
      },
      "execution_count": null,
      "outputs": [
        {
          "output_type": "execute_result",
          "data": {
            "text/plain": [
              "tensor(7)"
            ]
          },
          "metadata": {},
          "execution_count": 4
        }
      ]
    },
    {
      "cell_type": "code",
      "source": [
        "# 0 dimensional Tensor (Scalar)\n",
        "scalar.ndim"
      ],
      "metadata": {
        "colab": {
          "base_uri": "https://localhost:8080/"
        },
        "id": "097OeTysZx2s",
        "outputId": "65917428-5510-4a67-ef23-612acc6dc236"
      },
      "execution_count": null,
      "outputs": [
        {
          "output_type": "execute_result",
          "data": {
            "text/plain": [
              "0"
            ]
          },
          "metadata": {},
          "execution_count": 5
        }
      ]
    },
    {
      "cell_type": "code",
      "source": [
        "# Get the tensor back as Python integer\n",
        "scalar.item()"
      ],
      "metadata": {
        "colab": {
          "base_uri": "https://localhost:8080/"
        },
        "id": "suZ_UtNoaNBr",
        "outputId": "5c6abde3-ab41-4e43-9edf-2b8a4dc985f6"
      },
      "execution_count": null,
      "outputs": [
        {
          "output_type": "execute_result",
          "data": {
            "text/plain": [
              "7"
            ]
          },
          "metadata": {},
          "execution_count": 6
        }
      ]
    },
    {
      "cell_type": "code",
      "source": [
        "# Vector\n",
        "vector = torch.tensor([7,7])"
      ],
      "metadata": {
        "id": "fuLLckdDaYa8"
      },
      "execution_count": null,
      "outputs": []
    },
    {
      "cell_type": "code",
      "source": [
        "# Vector has 1 dimension\n",
        "vector.ndim"
      ],
      "metadata": {
        "colab": {
          "base_uri": "https://localhost:8080/"
        },
        "id": "q336KEMmahcu",
        "outputId": "1714ba6a-717f-4739-8292-734a26cf2de2"
      },
      "execution_count": null,
      "outputs": [
        {
          "output_type": "execute_result",
          "data": {
            "text/plain": [
              "1"
            ]
          },
          "metadata": {},
          "execution_count": 8
        }
      ]
    },
    {
      "cell_type": "code",
      "source": [
        "vector.shape"
      ],
      "metadata": {
        "colab": {
          "base_uri": "https://localhost:8080/"
        },
        "id": "dD24uNPtam9B",
        "outputId": "54f563e6-b51b-40a1-9858-2116d36dd13a"
      },
      "execution_count": null,
      "outputs": [
        {
          "output_type": "execute_result",
          "data": {
            "text/plain": [
              "torch.Size([2])"
            ]
          },
          "metadata": {},
          "execution_count": 9
        }
      ]
    },
    {
      "cell_type": "code",
      "source": [
        "# Matrix\n",
        "MATRIX = torch.tensor([[13,14],\n",
        "                      [19,56]])\n",
        "MATRIX"
      ],
      "metadata": {
        "colab": {
          "base_uri": "https://localhost:8080/"
        },
        "id": "sOH5S24_at43",
        "outputId": "db5b760f-2df0-4392-a364-84291df36967"
      },
      "execution_count": null,
      "outputs": [
        {
          "output_type": "execute_result",
          "data": {
            "text/plain": [
              "tensor([[13, 14],\n",
              "        [19, 56]])"
            ]
          },
          "metadata": {},
          "execution_count": 10
        }
      ]
    },
    {
      "cell_type": "code",
      "source": [
        "MATRIX.ndim"
      ],
      "metadata": {
        "colab": {
          "base_uri": "https://localhost:8080/"
        },
        "id": "a25EjlpLa5vH",
        "outputId": "d1489091-76d4-452c-d15e-000bc5e1e3b4"
      },
      "execution_count": null,
      "outputs": [
        {
          "output_type": "execute_result",
          "data": {
            "text/plain": [
              "2"
            ]
          },
          "metadata": {},
          "execution_count": 11
        }
      ]
    },
    {
      "cell_type": "code",
      "source": [
        "MATRIX.shape"
      ],
      "metadata": {
        "colab": {
          "base_uri": "https://localhost:8080/"
        },
        "id": "5M2WmHNobF_l",
        "outputId": "f6c464da-6fb0-45be-99fe-6cccfeb6a9ae"
      },
      "execution_count": null,
      "outputs": [
        {
          "output_type": "execute_result",
          "data": {
            "text/plain": [
              "torch.Size([2, 2])"
            ]
          },
          "metadata": {},
          "execution_count": 12
        }
      ]
    },
    {
      "cell_type": "code",
      "source": [
        "# TENSOR\n",
        "TENSOR = torch.Tensor([[[1,2,3],\n",
        "                        [4,5,6],\n",
        "                        [7,8,9]]])\n",
        "TENSOR"
      ],
      "metadata": {
        "colab": {
          "base_uri": "https://localhost:8080/"
        },
        "id": "1uI2UMyDbL8h",
        "outputId": "38295339-d53e-4a92-f276-06e990a92527"
      },
      "execution_count": null,
      "outputs": [
        {
          "output_type": "execute_result",
          "data": {
            "text/plain": [
              "tensor([[[1., 2., 3.],\n",
              "         [4., 5., 6.],\n",
              "         [7., 8., 9.]]])"
            ]
          },
          "metadata": {},
          "execution_count": 13
        }
      ]
    },
    {
      "cell_type": "code",
      "source": [
        "TENSOR.ndim"
      ],
      "metadata": {
        "colab": {
          "base_uri": "https://localhost:8080/"
        },
        "id": "uwtiRvnBbaTW",
        "outputId": "20bb7bd9-0600-4df6-9d9d-10b10d127c03"
      },
      "execution_count": null,
      "outputs": [
        {
          "output_type": "execute_result",
          "data": {
            "text/plain": [
              "3"
            ]
          },
          "metadata": {},
          "execution_count": 14
        }
      ]
    },
    {
      "cell_type": "code",
      "source": [
        "TENSOR.shape"
      ],
      "metadata": {
        "colab": {
          "base_uri": "https://localhost:8080/"
        },
        "id": "7Lze1LYAbbxv",
        "outputId": "50a0105a-cd46-4945-8cde-d4a94f414f2a"
      },
      "execution_count": null,
      "outputs": [
        {
          "output_type": "execute_result",
          "data": {
            "text/plain": [
              "torch.Size([1, 3, 3])"
            ]
          },
          "metadata": {},
          "execution_count": 15
        }
      ]
    },
    {
      "cell_type": "markdown",
      "source": [
        "### Random Tensors\n",
        "\n",
        "Why random Tensors?\n",
        "\n",
        "Random tensors are important because the way many neural networks learn is that they start with tensors full of random numbers and then adjust those random numbers to better represent the data.\n",
        "\n",
        "`Start with random numbers - look at data - update random numbers - look at data - update random numbers`"
      ],
      "metadata": {
        "id": "aCReksfqbdDv"
      }
    },
    {
      "cell_type": "code",
      "source": [
        "# Make a tensor with random data\n",
        "random_tensor = torch.rand(3,4)\n",
        "random_tensor"
      ],
      "metadata": {
        "colab": {
          "base_uri": "https://localhost:8080/"
        },
        "id": "sMPA9gqOb-2E",
        "outputId": "9a9ff60a-09ba-4b7c-db53-3784b5e342a2"
      },
      "execution_count": null,
      "outputs": [
        {
          "output_type": "execute_result",
          "data": {
            "text/plain": [
              "tensor([[0.3500, 0.6649, 0.7966, 0.4657],\n",
              "        [0.8238, 0.7444, 0.6533, 0.3611],\n",
              "        [0.3058, 0.6519, 0.0166, 0.3667]])"
            ]
          },
          "metadata": {},
          "execution_count": 16
        }
      ]
    },
    {
      "cell_type": "code",
      "source": [
        "random_tensor.ndim"
      ],
      "metadata": {
        "colab": {
          "base_uri": "https://localhost:8080/"
        },
        "id": "Wn8lh6IYcif7",
        "outputId": "872c5dca-4a9a-47e9-e8f9-1350c6725395"
      },
      "execution_count": null,
      "outputs": [
        {
          "output_type": "execute_result",
          "data": {
            "text/plain": [
              "2"
            ]
          },
          "metadata": {},
          "execution_count": 17
        }
      ]
    },
    {
      "cell_type": "code",
      "source": [
        "random_tensor.shape"
      ],
      "metadata": {
        "colab": {
          "base_uri": "https://localhost:8080/"
        },
        "id": "aRUdHqAdcl7s",
        "outputId": "4154c499-63ab-4542-bbd2-3a3cc3d680e3"
      },
      "execution_count": null,
      "outputs": [
        {
          "output_type": "execute_result",
          "data": {
            "text/plain": [
              "torch.Size([3, 4])"
            ]
          },
          "metadata": {},
          "execution_count": 18
        }
      ]
    },
    {
      "cell_type": "code",
      "source": [
        "# Create random tensor with similar shape to an image tensor\n",
        "random_img_size_tensor = torch.rand(size=(224,224,3))\n",
        "random_img_size_tensor"
      ],
      "metadata": {
        "colab": {
          "base_uri": "https://localhost:8080/"
        },
        "id": "eizw5yoscm_2",
        "outputId": "c47cf50e-34ba-4d8b-a8d9-989df4d681f0"
      },
      "execution_count": null,
      "outputs": [
        {
          "output_type": "execute_result",
          "data": {
            "text/plain": [
              "tensor([[[0.3831, 0.5560, 0.3492],\n",
              "         [0.8292, 0.4208, 0.8741],\n",
              "         [0.9676, 0.8319, 0.0411],\n",
              "         ...,\n",
              "         [0.2974, 0.6495, 0.4734],\n",
              "         [0.5188, 0.2926, 0.9281],\n",
              "         [0.4367, 0.8672, 0.1768]],\n",
              "\n",
              "        [[0.0096, 0.2811, 0.2828],\n",
              "         [0.8710, 0.5747, 0.4747],\n",
              "         [0.3281, 0.8904, 0.0388],\n",
              "         ...,\n",
              "         [0.5292, 0.6168, 0.1670],\n",
              "         [0.7998, 0.7125, 0.8592],\n",
              "         [0.9102, 0.7811, 0.5501]],\n",
              "\n",
              "        [[0.2858, 0.0605, 0.1457],\n",
              "         [0.5386, 0.8261, 0.3718],\n",
              "         [0.6723, 0.5829, 0.4712],\n",
              "         ...,\n",
              "         [0.4394, 0.5584, 0.0438],\n",
              "         [0.9989, 0.7261, 0.1383],\n",
              "         [0.4564, 0.7003, 0.4822]],\n",
              "\n",
              "        ...,\n",
              "\n",
              "        [[0.7234, 0.1570, 0.5753],\n",
              "         [0.4127, 0.9287, 0.3408],\n",
              "         [0.3762, 0.5214, 0.4464],\n",
              "         ...,\n",
              "         [0.5104, 0.8147, 0.4062],\n",
              "         [0.6962, 0.8578, 0.6148],\n",
              "         [0.9689, 0.7222, 0.8915]],\n",
              "\n",
              "        [[0.9154, 0.4126, 0.1012],\n",
              "         [0.0653, 0.6726, 0.0776],\n",
              "         [0.6211, 0.2188, 0.3206],\n",
              "         ...,\n",
              "         [0.4687, 0.9497, 0.4704],\n",
              "         [0.2260, 0.7076, 0.7083],\n",
              "         [0.8601, 0.5437, 0.6295]],\n",
              "\n",
              "        [[0.7834, 0.4883, 0.8304],\n",
              "         [0.3356, 0.8446, 0.8392],\n",
              "         [0.3351, 0.7416, 0.2235],\n",
              "         ...,\n",
              "         [0.4932, 0.0192, 0.4696],\n",
              "         [0.7334, 0.3428, 0.9976],\n",
              "         [0.1271, 0.5393, 0.2851]]])"
            ]
          },
          "metadata": {},
          "execution_count": 19
        }
      ]
    },
    {
      "cell_type": "code",
      "source": [
        "random_img_size_tensor.shape, random_img_size_tensor.ndim"
      ],
      "metadata": {
        "colab": {
          "base_uri": "https://localhost:8080/"
        },
        "id": "xqeldj_xc7R9",
        "outputId": "b2fbc808-f5c3-4cba-dd8c-7254ab18b92f"
      },
      "execution_count": null,
      "outputs": [
        {
          "output_type": "execute_result",
          "data": {
            "text/plain": [
              "(torch.Size([224, 224, 3]), 3)"
            ]
          },
          "metadata": {},
          "execution_count": 20
        }
      ]
    },
    {
      "cell_type": "code",
      "source": [
        "random_test_tensor = torch.rand((68,587,3))\n",
        "random_test_tensor"
      ],
      "metadata": {
        "colab": {
          "base_uri": "https://localhost:8080/"
        },
        "id": "WX8H0alSdAX3",
        "outputId": "fda655c5-bc38-4b6e-ce58-60df43cf1782"
      },
      "execution_count": null,
      "outputs": [
        {
          "output_type": "execute_result",
          "data": {
            "text/plain": [
              "tensor([[[0.4805, 0.0981, 0.1177],\n",
              "         [0.6501, 0.9978, 0.3712],\n",
              "         [0.8886, 0.3317, 0.8501],\n",
              "         ...,\n",
              "         [0.3456, 0.4638, 0.2905],\n",
              "         [0.5368, 0.4259, 0.8810],\n",
              "         [0.7651, 0.9027, 0.9526]],\n",
              "\n",
              "        [[0.4651, 0.9824, 0.6956],\n",
              "         [0.6755, 0.2839, 0.1793],\n",
              "         [0.5479, 0.8248, 0.9366],\n",
              "         ...,\n",
              "         [0.0130, 0.1943, 0.6834],\n",
              "         [0.8193, 0.8898, 0.1867],\n",
              "         [0.7805, 0.9907, 0.5482]],\n",
              "\n",
              "        [[0.9815, 0.5164, 0.2049],\n",
              "         [0.3646, 0.2771, 0.3222],\n",
              "         [0.9551, 0.9704, 0.0606],\n",
              "         ...,\n",
              "         [0.5733, 0.9578, 0.3574],\n",
              "         [0.2094, 0.6320, 0.6076],\n",
              "         [0.8160, 0.9383, 0.1222]],\n",
              "\n",
              "        ...,\n",
              "\n",
              "        [[0.9827, 0.3760, 0.7078],\n",
              "         [0.6671, 0.6070, 0.9072],\n",
              "         [0.8337, 0.7130, 0.3887],\n",
              "         ...,\n",
              "         [0.3584, 0.2361, 0.7456],\n",
              "         [0.1566, 0.3560, 0.7230],\n",
              "         [0.7933, 0.9106, 0.8262]],\n",
              "\n",
              "        [[0.4077, 0.8829, 0.0842],\n",
              "         [0.3079, 0.7238, 0.1585],\n",
              "         [0.3969, 0.2696, 0.8477],\n",
              "         ...,\n",
              "         [0.0365, 0.7527, 0.3145],\n",
              "         [0.0313, 0.1106, 0.7147],\n",
              "         [0.0918, 0.7845, 0.9065]],\n",
              "\n",
              "        [[0.9917, 0.9004, 0.6968],\n",
              "         [0.1755, 0.8758, 0.6609],\n",
              "         [0.0553, 0.6411, 0.9755],\n",
              "         ...,\n",
              "         [0.9908, 0.3668, 0.6312],\n",
              "         [0.5485, 0.3408, 0.0267],\n",
              "         [0.3127, 0.3927, 0.8922]]])"
            ]
          },
          "metadata": {},
          "execution_count": 21
        }
      ]
    },
    {
      "cell_type": "markdown",
      "source": [
        "## Zeros and ones"
      ],
      "metadata": {
        "id": "IA1PZ-K8dEPU"
      }
    },
    {
      "cell_type": "code",
      "source": [
        "# Create a tensor of all zeros\n",
        "zeros = torch.zeros(size=(3,4))\n",
        "zeros"
      ],
      "metadata": {
        "colab": {
          "base_uri": "https://localhost:8080/"
        },
        "id": "3k7YgLindMCC",
        "outputId": "0b6ca5e0-f4d9-4737-d384-7e2bbb2f632a"
      },
      "execution_count": null,
      "outputs": [
        {
          "output_type": "execute_result",
          "data": {
            "text/plain": [
              "tensor([[0., 0., 0., 0.],\n",
              "        [0., 0., 0., 0.],\n",
              "        [0., 0., 0., 0.]])"
            ]
          },
          "metadata": {},
          "execution_count": 22
        }
      ]
    },
    {
      "cell_type": "code",
      "source": [
        "# Create tensor of ones\n",
        "ones = torch.ones(size=(5,6))\n",
        "ones"
      ],
      "metadata": {
        "colab": {
          "base_uri": "https://localhost:8080/"
        },
        "id": "L-LGeFU-dRwY",
        "outputId": "10853cbe-eb18-4ab2-893e-8d6d6f3381ea"
      },
      "execution_count": null,
      "outputs": [
        {
          "output_type": "execute_result",
          "data": {
            "text/plain": [
              "tensor([[1., 1., 1., 1., 1., 1.],\n",
              "        [1., 1., 1., 1., 1., 1.],\n",
              "        [1., 1., 1., 1., 1., 1.],\n",
              "        [1., 1., 1., 1., 1., 1.],\n",
              "        [1., 1., 1., 1., 1., 1.]])"
            ]
          },
          "metadata": {},
          "execution_count": 23
        }
      ]
    },
    {
      "cell_type": "markdown",
      "source": [
        "### Create a range of tensors and tensors-like\n"
      ],
      "metadata": {
        "id": "N2yku045dcRP"
      }
    },
    {
      "cell_type": "code",
      "source": [
        "torch.arange(0,10)"
      ],
      "metadata": {
        "colab": {
          "base_uri": "https://localhost:8080/"
        },
        "id": "egjb2dEkdndk",
        "outputId": "1b44366d-04f3-4b40-bd89-beaaa1427478"
      },
      "execution_count": null,
      "outputs": [
        {
          "output_type": "execute_result",
          "data": {
            "text/plain": [
              "tensor([0, 1, 2, 3, 4, 5, 6, 7, 8, 9])"
            ]
          },
          "metadata": {},
          "execution_count": 24
        }
      ]
    },
    {
      "cell_type": "code",
      "source": [
        "one_to_ten = torch.arange(0,11)"
      ],
      "metadata": {
        "id": "M1fD7j_EdnvU"
      },
      "execution_count": null,
      "outputs": []
    },
    {
      "cell_type": "code",
      "source": [
        "torch.__version__"
      ],
      "metadata": {
        "colab": {
          "base_uri": "https://localhost:8080/",
          "height": 35
        },
        "id": "U4-qJkOHdv7i",
        "outputId": "69567dfb-84fb-48fb-b906-36d46721c1bb"
      },
      "execution_count": null,
      "outputs": [
        {
          "output_type": "execute_result",
          "data": {
            "text/plain": [
              "'2.1.0+cu121'"
            ],
            "application/vnd.google.colaboratory.intrinsic+json": {
              "type": "string"
            }
          },
          "metadata": {},
          "execution_count": 26
        }
      ]
    },
    {
      "cell_type": "code",
      "source": [
        "ten_zeros = torch.zeros_like(one_to_ten)"
      ],
      "metadata": {
        "id": "4uiCWyo-d2kV"
      },
      "execution_count": null,
      "outputs": []
    },
    {
      "cell_type": "code",
      "source": [
        "ten_zeros"
      ],
      "metadata": {
        "colab": {
          "base_uri": "https://localhost:8080/"
        },
        "id": "-MlltQX_eKF0",
        "outputId": "3bebe10c-8fb3-460b-b07f-47563012d5c7"
      },
      "execution_count": null,
      "outputs": [
        {
          "output_type": "execute_result",
          "data": {
            "text/plain": [
              "tensor([0, 0, 0, 0, 0, 0, 0, 0, 0, 0, 0])"
            ]
          },
          "metadata": {},
          "execution_count": 28
        }
      ]
    },
    {
      "cell_type": "markdown",
      "source": [
        "### Tensor datatypes\n",
        "\n",
        "**Note:** Tensor datatypes is one of the 3 big errors you'll run into with PyTorch and Deep Learning\n",
        "1. Tensors are not right datatype\n",
        "2. Tensors not right shape\n",
        "3. Tensors not on right device"
      ],
      "metadata": {
        "id": "qBXbiUWFePkE"
      }
    },
    {
      "cell_type": "code",
      "source": [
        "# Float 32 tensor\n",
        "float_32_tensor = torch.tensor([3.0, 6.0, 9.0],\n",
        "                               dtype=None)\n",
        "float_32_tensor"
      ],
      "metadata": {
        "colab": {
          "base_uri": "https://localhost:8080/"
        },
        "id": "0DMfc6YCehIK",
        "outputId": "15cb433f-3692-4026-e6e9-a7215a25b2e1"
      },
      "execution_count": null,
      "outputs": [
        {
          "output_type": "execute_result",
          "data": {
            "text/plain": [
              "tensor([3., 6., 9.])"
            ]
          },
          "metadata": {},
          "execution_count": 29
        }
      ]
    },
    {
      "cell_type": "code",
      "source": [
        "float_32_tensor.dtype"
      ],
      "metadata": {
        "colab": {
          "base_uri": "https://localhost:8080/"
        },
        "id": "6YLDLqsperDV",
        "outputId": "6954420f-ec8d-4388-842a-4cb22d4433c7"
      },
      "execution_count": null,
      "outputs": [
        {
          "output_type": "execute_result",
          "data": {
            "text/plain": [
              "torch.float32"
            ]
          },
          "metadata": {},
          "execution_count": 30
        }
      ]
    },
    {
      "cell_type": "code",
      "source": [
        "float_32_tensor = torch.tensor([3.0, 6.0, 9.0],\n",
        "                               dtype=torch.float16, # What datatypes are available for tensors\n",
        "                               device='cpu', # What device is the tensor running on\n",
        "                               requires_grad=False) # Tells whether the tensor should track the gradient through calculations\n",
        "float_32_tensor"
      ],
      "metadata": {
        "colab": {
          "base_uri": "https://localhost:8080/"
        },
        "id": "BXA6sIsjev3Q",
        "outputId": "70117936-847f-4445-f861-112bc55d69e5"
      },
      "execution_count": null,
      "outputs": [
        {
          "output_type": "execute_result",
          "data": {
            "text/plain": [
              "tensor([3., 6., 9.], dtype=torch.float16)"
            ]
          },
          "metadata": {},
          "execution_count": 33
        }
      ]
    },
    {
      "cell_type": "code",
      "source": [
        "float_16_tensor = float_32_tensor.type(torch.float16)"
      ],
      "metadata": {
        "id": "eEFrGjgLezqr"
      },
      "execution_count": null,
      "outputs": []
    },
    {
      "cell_type": "code",
      "source": [
        "float_16_tensor.dtype"
      ],
      "metadata": {
        "colab": {
          "base_uri": "https://localhost:8080/"
        },
        "id": "W7emXsGtgH-g",
        "outputId": "cc567690-ac0b-45fc-fc7e-8a22d1652272"
      },
      "execution_count": null,
      "outputs": [
        {
          "output_type": "execute_result",
          "data": {
            "text/plain": [
              "torch.float16"
            ]
          },
          "metadata": {},
          "execution_count": 36
        }
      ]
    },
    {
      "cell_type": "code",
      "source": [
        "float_16_tensor * float_32_tensor"
      ],
      "metadata": {
        "colab": {
          "base_uri": "https://localhost:8080/"
        },
        "id": "Tl6VkXCQgJ5H",
        "outputId": "a1dca87f-ed8e-48db-bbe7-d9dc37b47661"
      },
      "execution_count": null,
      "outputs": [
        {
          "output_type": "execute_result",
          "data": {
            "text/plain": [
              "tensor([ 9., 36., 81.], dtype=torch.float16)"
            ]
          },
          "metadata": {},
          "execution_count": 37
        }
      ]
    },
    {
      "cell_type": "code",
      "source": [
        "int_32_tensor = torch.tensor([3,6,9], dtype=torch.int32)"
      ],
      "metadata": {
        "id": "NKupkIc51CPW"
      },
      "execution_count": null,
      "outputs": []
    },
    {
      "cell_type": "code",
      "source": [
        "float_32_tensor * int_32_tensor"
      ],
      "metadata": {
        "colab": {
          "base_uri": "https://localhost:8080/"
        },
        "id": "UwbQbv4V1gRp",
        "outputId": "08ec5692-2efe-4d58-e196-2e28048146fd"
      },
      "execution_count": null,
      "outputs": [
        {
          "output_type": "execute_result",
          "data": {
            "text/plain": [
              "tensor([ 9., 36., 81.], dtype=torch.float16)"
            ]
          },
          "metadata": {},
          "execution_count": 39
        }
      ]
    },
    {
      "cell_type": "markdown",
      "source": [
        "### Getting info from tensors\n",
        "\n",
        "1. Tensors are not right datatype - to do get datatype from a tensor, can use `tensor.dtype`\n",
        "2. Tensors not right shape - to get shape from a tensor, can use `tensor.shape`\n",
        "3. Tensors not on right device - to get device from tensor, use `tensor.device`"
      ],
      "metadata": {
        "id": "EcN4CeQh1jfn"
      }
    },
    {
      "cell_type": "code",
      "source": [
        "# Create a random tensor\n",
        "some_tensor = torch.rand(3,4)\n",
        "some_tensor"
      ],
      "metadata": {
        "colab": {
          "base_uri": "https://localhost:8080/"
        },
        "id": "DYBtoqYR2Qte",
        "outputId": "76ad9d5a-0c69-4015-a5d7-be09e618c23d"
      },
      "execution_count": null,
      "outputs": [
        {
          "output_type": "execute_result",
          "data": {
            "text/plain": [
              "tensor([[0.7205, 0.3517, 0.0785, 0.8485],\n",
              "        [0.0013, 0.9679, 0.9837, 0.1239],\n",
              "        [0.4887, 0.0128, 0.0787, 0.1829]])"
            ]
          },
          "metadata": {},
          "execution_count": 40
        }
      ]
    },
    {
      "cell_type": "code",
      "source": [
        "print(some_tensor)\n",
        "print(f\"Datatype of tensor: {some_tensor.dtype}\")\n",
        "print(f\"Shape of tensor: {some_tensor.shape}\")\n",
        "print(f\"Device of tensor: {some_tensor.device}\")"
      ],
      "metadata": {
        "colab": {
          "base_uri": "https://localhost:8080/"
        },
        "id": "kipWCtL12WbB",
        "outputId": "391db12a-324c-4521-9067-dbbd5d296abb"
      },
      "execution_count": null,
      "outputs": [
        {
          "output_type": "stream",
          "name": "stdout",
          "text": [
            "tensor([[0.7205, 0.3517, 0.0785, 0.8485],\n",
            "        [0.0013, 0.9679, 0.9837, 0.1239],\n",
            "        [0.4887, 0.0128, 0.0787, 0.1829]])\n",
            "Datatype of tensor: torch.float32\n",
            "Shape of tensor: torch.Size([3, 4])\n",
            "Device of tensor: cpu\n"
          ]
        }
      ]
    },
    {
      "cell_type": "markdown",
      "source": [
        "### Manipulating Tensors (tensor operations)\n",
        "\n",
        "Tensor operation include:\n",
        "* Addition\n",
        "* Subtraction\n",
        "* Multiplication (element-wise)\n",
        "* Division\n",
        "* Matrix multiplication\n"
      ],
      "metadata": {
        "id": "uj2sDXNy2hE3"
      }
    },
    {
      "cell_type": "code",
      "source": [
        "# Create a tensor\n",
        "tensor = torch.tensor([1,2,3])\n",
        "tensor + 10"
      ],
      "metadata": {
        "colab": {
          "base_uri": "https://localhost:8080/"
        },
        "id": "-7nGYCIQ3tvK",
        "outputId": "744ff649-1bb6-43fa-fa0c-ed2a3e6b5f0e"
      },
      "execution_count": null,
      "outputs": [
        {
          "output_type": "execute_result",
          "data": {
            "text/plain": [
              "tensor([11, 12, 13])"
            ]
          },
          "metadata": {},
          "execution_count": 46
        }
      ]
    },
    {
      "cell_type": "code",
      "source": [
        "# Mult tensor by 10\n",
        "tensor = tensor *10\n",
        "tensor"
      ],
      "metadata": {
        "colab": {
          "base_uri": "https://localhost:8080/"
        },
        "id": "k6zWHxNc4YpI",
        "outputId": "552eec17-6dfd-47f4-c388-0eead815cc40"
      },
      "execution_count": null,
      "outputs": [
        {
          "output_type": "execute_result",
          "data": {
            "text/plain": [
              "tensor([10, 20, 30])"
            ]
          },
          "metadata": {},
          "execution_count": 47
        }
      ]
    },
    {
      "cell_type": "code",
      "source": [
        "tensor"
      ],
      "metadata": {
        "colab": {
          "base_uri": "https://localhost:8080/"
        },
        "id": "rsfTmuZh4fg1",
        "outputId": "2206e51a-060b-482b-ee2d-b210e617f015"
      },
      "execution_count": null,
      "outputs": [
        {
          "output_type": "execute_result",
          "data": {
            "text/plain": [
              "tensor([10, 20, 30])"
            ]
          },
          "metadata": {},
          "execution_count": 48
        }
      ]
    },
    {
      "cell_type": "code",
      "source": [
        "tensor -10"
      ],
      "metadata": {
        "colab": {
          "base_uri": "https://localhost:8080/"
        },
        "id": "tVcCevWp4gWf",
        "outputId": "18ab0ec9-a0e0-49ff-e66c-605d329fe274"
      },
      "execution_count": null,
      "outputs": [
        {
          "output_type": "execute_result",
          "data": {
            "text/plain": [
              "tensor([ 0, 10, 20])"
            ]
          },
          "metadata": {},
          "execution_count": 49
        }
      ]
    },
    {
      "cell_type": "code",
      "source": [
        "# Pytorch in-built functions\n",
        "torch.mul(tensor, 10)"
      ],
      "metadata": {
        "colab": {
          "base_uri": "https://localhost:8080/"
        },
        "id": "HcBWxd724iJB",
        "outputId": "ad3b1839-9c18-4162-8a5a-b5d24aba9dbc"
      },
      "execution_count": null,
      "outputs": [
        {
          "output_type": "execute_result",
          "data": {
            "text/plain": [
              "tensor([100, 200, 300])"
            ]
          },
          "metadata": {},
          "execution_count": 50
        }
      ]
    },
    {
      "cell_type": "code",
      "source": [
        "torch.add(tensor,10)"
      ],
      "metadata": {
        "colab": {
          "base_uri": "https://localhost:8080/"
        },
        "id": "vQaKcOtj4p6L",
        "outputId": "7ea19a8e-5580-4351-aad8-cc38644bb328"
      },
      "execution_count": null,
      "outputs": [
        {
          "output_type": "execute_result",
          "data": {
            "text/plain": [
              "tensor([20, 30, 40])"
            ]
          },
          "metadata": {},
          "execution_count": 51
        }
      ]
    },
    {
      "cell_type": "markdown",
      "source": [
        "### Matrix multiplication\n",
        "\n",
        "Two main ways of performing multiplication in neural networks and deep learning:\n",
        "\n",
        "1. Element-wise multiplication\n",
        "2. Matrix multiplication (dot product)\n",
        "\n",
        "More information on multiplying matrices - mathisfun matrix-multiplying\n",
        "\n",
        "There are two main rules that performing matrix multiplication needs to satisfy:\n",
        "1. The **inner dimensions** must match:\n",
        "* `(3, 2) @ (3,2)` won't work\n",
        "* `(2, 3) @ (3,2)` will work\n",
        "* `(3, 2) @ (2,3)` will work\n",
        "2. The resulting matrix has the shape of the **outer dimensions**:\n",
        "* `(2, 3) @ (3, 2)` -> (2,2)\n",
        "* `(3, 2) @ (2, 3)` -> (3,3)"
      ],
      "metadata": {
        "id": "Ofaw3Rd94uQm"
      }
    },
    {
      "cell_type": "code",
      "source": [
        "torch.matmul(torch.rand(3,2), torch.rand(2,3))"
      ],
      "metadata": {
        "colab": {
          "base_uri": "https://localhost:8080/"
        },
        "id": "fyk4RJ_x8gqH",
        "outputId": "af64dde0-ded6-4226-abed-19461864a118"
      },
      "execution_count": null,
      "outputs": [
        {
          "output_type": "execute_result",
          "data": {
            "text/plain": [
              "tensor([[0.7807, 0.8852, 1.0930],\n",
              "        [0.2752, 0.3449, 0.3822],\n",
              "        [0.4421, 0.2097, 0.6454]])"
            ]
          },
          "metadata": {},
          "execution_count": 61
        }
      ]
    },
    {
      "cell_type": "code",
      "source": [
        "torch.matmul(torch.rand(2,3), torch.rand(3,2))"
      ],
      "metadata": {
        "colab": {
          "base_uri": "https://localhost:8080/"
        },
        "id": "tMSegJy-9EGf",
        "outputId": "feb5d8a0-0a5c-4f82-acfd-0aeff742b165"
      },
      "execution_count": null,
      "outputs": [
        {
          "output_type": "execute_result",
          "data": {
            "text/plain": [
              "tensor([[0.1266, 0.3999],\n",
              "        [0.7019, 0.3693]])"
            ]
          },
          "metadata": {},
          "execution_count": 62
        }
      ]
    },
    {
      "cell_type": "code",
      "source": [
        "torch.rand(2,3), torch.rand(3,2)"
      ],
      "metadata": {
        "colab": {
          "base_uri": "https://localhost:8080/"
        },
        "id": "IlXrIkds9Qyc",
        "outputId": "029e069c-bea2-4821-9995-8fd0d08dd04d"
      },
      "execution_count": null,
      "outputs": [
        {
          "output_type": "execute_result",
          "data": {
            "text/plain": [
              "(tensor([[0.1282, 0.2689, 0.9146],\n",
              "         [0.2686, 0.8490, 0.5347]]),\n",
              " tensor([[0.0672, 0.7477],\n",
              "         [0.8209, 0.2777],\n",
              "         [0.8144, 0.2168]]))"
            ]
          },
          "metadata": {},
          "execution_count": 64
        }
      ]
    },
    {
      "cell_type": "code",
      "source": [
        "# Element wise multiplication\n",
        "print(tensor, '*', tensor)\n",
        "print(f'Equals: {tensor * tensor}')"
      ],
      "metadata": {
        "colab": {
          "base_uri": "https://localhost:8080/"
        },
        "id": "D6XCzDMr5Vdj",
        "outputId": "81ad40b4-7a0a-4f80-ed59-7f209d836492"
      },
      "execution_count": null,
      "outputs": [
        {
          "output_type": "stream",
          "name": "stdout",
          "text": [
            "tensor([10, 20, 30]) * tensor([10, 20, 30])\n",
            "Equals: tensor([100, 400, 900])\n"
          ]
        }
      ]
    },
    {
      "cell_type": "code",
      "source": [
        "# Matrix (in this case it's a vector, but the general rules still apply) multiplication\n",
        "torch.matmul(tensor, tensor)"
      ],
      "metadata": {
        "colab": {
          "base_uri": "https://localhost:8080/"
        },
        "id": "8DjdiI9_5h1I",
        "outputId": "6a154610-e4e0-4bde-fe90-90c959caab35"
      },
      "execution_count": null,
      "outputs": [
        {
          "output_type": "execute_result",
          "data": {
            "text/plain": [
              "tensor(1400)"
            ]
          },
          "metadata": {},
          "execution_count": 56
        }
      ]
    },
    {
      "cell_type": "code",
      "source": [
        "# Matrix multiplication by hand\n",
        "10**2 + 20**2 + 30**2"
      ],
      "metadata": {
        "colab": {
          "base_uri": "https://localhost:8080/"
        },
        "id": "ex4XOxSp57m2",
        "outputId": "39d3e07b-9c98-454d-cb59-ca572ded41ad"
      },
      "execution_count": null,
      "outputs": [
        {
          "output_type": "execute_result",
          "data": {
            "text/plain": [
              "1400"
            ]
          },
          "metadata": {},
          "execution_count": 57
        }
      ]
    },
    {
      "cell_type": "code",
      "source": [
        "%%time\n",
        "value = 0\n",
        "for i in range(len(tensor)):\n",
        "  value += tensor[i]**2\n",
        "value\n"
      ],
      "metadata": {
        "colab": {
          "base_uri": "https://localhost:8080/"
        },
        "id": "ps_7a7M96YYF",
        "outputId": "ddd6a789-b6c2-4c01-bb44-bcb23ae74c23"
      },
      "execution_count": null,
      "outputs": [
        {
          "output_type": "stream",
          "name": "stdout",
          "text": [
            "CPU times: user 919 µs, sys: 0 ns, total: 919 µs\n",
            "Wall time: 1.08 ms\n"
          ]
        },
        {
          "output_type": "execute_result",
          "data": {
            "text/plain": [
              "tensor(1400)"
            ]
          },
          "metadata": {},
          "execution_count": 58
        }
      ]
    },
    {
      "cell_type": "code",
      "source": [
        "%%time\n",
        "torch.matmul(tensor, tensor)"
      ],
      "metadata": {
        "colab": {
          "base_uri": "https://localhost:8080/"
        },
        "id": "GKGhSX_Z6vhE",
        "outputId": "8ccbdc1c-1d39-4316-82ac-13575a081e34"
      },
      "execution_count": null,
      "outputs": [
        {
          "output_type": "stream",
          "name": "stdout",
          "text": [
            "CPU times: user 159 µs, sys: 0 ns, total: 159 µs\n",
            "Wall time: 165 µs\n"
          ]
        },
        {
          "output_type": "execute_result",
          "data": {
            "text/plain": [
              "tensor(1400)"
            ]
          },
          "metadata": {},
          "execution_count": 59
        }
      ]
    },
    {
      "cell_type": "markdown",
      "source": [
        "### One of the most common errors in deep learning: shape errors"
      ],
      "metadata": {
        "id": "IQplQz2x61e8"
      }
    },
    {
      "cell_type": "code",
      "source": [
        "# Shapes for matrix multiplication\n",
        "tensor_A = torch.tensor([[1,2],\n",
        "                         [3,4],\n",
        "                         [5,6]])\n",
        "tensor_B = torch.tensor([[7,10],\n",
        "                         [8,11],\n",
        "                         [9,12]])\n",
        "torch.mm(tensor_A, tensor_B) # torch.mm is the same as torch.matmul (its just an alias for writing less code)"
      ],
      "metadata": {
        "colab": {
          "base_uri": "https://localhost:8080/",
          "height": 227
        },
        "id": "SElPiN9m-xON",
        "outputId": "b80e5a12-85b0-4b29-8f54-0a7fa682a5a7"
      },
      "execution_count": null,
      "outputs": [
        {
          "output_type": "error",
          "ename": "RuntimeError",
          "evalue": "ignored",
          "traceback": [
            "\u001b[0;31m---------------------------------------------------------------------------\u001b[0m",
            "\u001b[0;31mRuntimeError\u001b[0m                              Traceback (most recent call last)",
            "\u001b[0;32m<ipython-input-65-5fb65e794758>\u001b[0m in \u001b[0;36m<cell line: 8>\u001b[0;34m()\u001b[0m\n\u001b[1;32m      6\u001b[0m                          \u001b[0;34m[\u001b[0m\u001b[0;36m8\u001b[0m\u001b[0;34m,\u001b[0m\u001b[0;36m11\u001b[0m\u001b[0;34m]\u001b[0m\u001b[0;34m,\u001b[0m\u001b[0;34m\u001b[0m\u001b[0;34m\u001b[0m\u001b[0m\n\u001b[1;32m      7\u001b[0m                          [9,12]])\n\u001b[0;32m----> 8\u001b[0;31m \u001b[0mtorch\u001b[0m\u001b[0;34m.\u001b[0m\u001b[0mmm\u001b[0m\u001b[0;34m(\u001b[0m\u001b[0mtensor_A\u001b[0m\u001b[0;34m,\u001b[0m \u001b[0mtensor_B\u001b[0m\u001b[0;34m)\u001b[0m \u001b[0;31m# torch.mm is the same as torch.matmul (its just an alias for writing less code)\u001b[0m\u001b[0;34m\u001b[0m\u001b[0;34m\u001b[0m\u001b[0m\n\u001b[0m",
            "\u001b[0;31mRuntimeError\u001b[0m: mat1 and mat2 shapes cannot be multiplied (3x2 and 3x2)"
          ]
        }
      ]
    },
    {
      "cell_type": "code",
      "source": [
        "tensor_A.shape, tensor_B.shape"
      ],
      "metadata": {
        "colab": {
          "base_uri": "https://localhost:8080/"
        },
        "id": "0bv9Lszg_yVA",
        "outputId": "6c5dedf6-370c-4942-e9fc-0a11dba5a91f"
      },
      "execution_count": null,
      "outputs": [
        {
          "output_type": "execute_result",
          "data": {
            "text/plain": [
              "(torch.Size([3, 2]), torch.Size([3, 2]))"
            ]
          },
          "metadata": {},
          "execution_count": 66
        }
      ]
    },
    {
      "cell_type": "code",
      "source": [
        "tensor_B, tensor_B.shape"
      ],
      "metadata": {
        "colab": {
          "base_uri": "https://localhost:8080/"
        },
        "id": "Yz4naBDl_3VZ",
        "outputId": "f9ae4c8a-1b8b-46de-e537-05549e2175dd"
      },
      "execution_count": null,
      "outputs": [
        {
          "output_type": "execute_result",
          "data": {
            "text/plain": [
              "(tensor([[ 7, 10],\n",
              "         [ 8, 11],\n",
              "         [ 9, 12]]),\n",
              " torch.Size([3, 2]))"
            ]
          },
          "metadata": {},
          "execution_count": 68
        }
      ]
    },
    {
      "cell_type": "code",
      "source": [
        "tensor_B.T, tensor_B.T.shape"
      ],
      "metadata": {
        "colab": {
          "base_uri": "https://localhost:8080/"
        },
        "id": "BJKInwqIAOSr",
        "outputId": "c6745e00-c031-4feb-d3b3-072bebde3d87"
      },
      "execution_count": null,
      "outputs": [
        {
          "output_type": "execute_result",
          "data": {
            "text/plain": [
              "(tensor([[ 7,  8,  9],\n",
              "         [10, 11, 12]]),\n",
              " torch.Size([2, 3]))"
            ]
          },
          "metadata": {},
          "execution_count": 69
        }
      ]
    },
    {
      "cell_type": "code",
      "source": [
        "torch.matmul(tensor_A, tensor_B.T)"
      ],
      "metadata": {
        "colab": {
          "base_uri": "https://localhost:8080/"
        },
        "id": "9Fql-X66AbEv",
        "outputId": "9ac8b43e-08eb-4911-e838-f2258d72f7dc"
      },
      "execution_count": null,
      "outputs": [
        {
          "output_type": "execute_result",
          "data": {
            "text/plain": [
              "tensor([[ 27,  30,  33],\n",
              "        [ 61,  68,  75],\n",
              "        [ 95, 106, 117]])"
            ]
          },
          "metadata": {},
          "execution_count": 72
        }
      ]
    },
    {
      "cell_type": "markdown",
      "source": [
        "## Finding the min, max, mean, sum, etc (tensor aggregation)"
      ],
      "metadata": {
        "id": "XZoFHgnoAgbY"
      }
    },
    {
      "cell_type": "code",
      "source": [
        "# Create tensor\n",
        "x = torch.arange(0, 100, 10)\n",
        "x"
      ],
      "metadata": {
        "colab": {
          "base_uri": "https://localhost:8080/"
        },
        "id": "7e4L8oV2CIol",
        "outputId": "d1c6e8e2-e283-4dae-baae-526b210b5e81"
      },
      "execution_count": null,
      "outputs": [
        {
          "output_type": "execute_result",
          "data": {
            "text/plain": [
              "tensor([ 0, 10, 20, 30, 40, 50, 60, 70, 80, 90])"
            ]
          },
          "metadata": {},
          "execution_count": 88
        }
      ]
    },
    {
      "cell_type": "code",
      "source": [
        "# Find the min\n",
        "torch.min(x), x.min()"
      ],
      "metadata": {
        "colab": {
          "base_uri": "https://localhost:8080/"
        },
        "id": "YjJOTJwICRUM",
        "outputId": "4ea2ba13-9c79-45ce-c677-ccd54efcd962"
      },
      "execution_count": null,
      "outputs": [
        {
          "output_type": "execute_result",
          "data": {
            "text/plain": [
              "(tensor(0), tensor(0))"
            ]
          },
          "metadata": {},
          "execution_count": 76
        }
      ]
    },
    {
      "cell_type": "code",
      "source": [
        "# Find the max\n",
        "torch.max(x), x.max()"
      ],
      "metadata": {
        "colab": {
          "base_uri": "https://localhost:8080/"
        },
        "id": "OE4LhyPlCXwT",
        "outputId": "ae95ed69-1095-4e61-b860-1ad4ceb713b1"
      },
      "execution_count": null,
      "outputs": [
        {
          "output_type": "execute_result",
          "data": {
            "text/plain": [
              "(tensor(90), tensor(90))"
            ]
          },
          "metadata": {},
          "execution_count": 77
        }
      ]
    },
    {
      "cell_type": "code",
      "source": [
        "# x = x.type(torch.float32)"
      ],
      "metadata": {
        "id": "BGLspM0FDBaq"
      },
      "execution_count": null,
      "outputs": []
    },
    {
      "cell_type": "code",
      "source": [
        "# Find the mean - note: the torch.mean() function requires a tensor of float32 datatype to work\n",
        "torch.mean(x.type(torch.float32))"
      ],
      "metadata": {
        "colab": {
          "base_uri": "https://localhost:8080/"
        },
        "id": "CQ0kd-hkCdhE",
        "outputId": "d416ced0-091d-4e2d-90bc-f014ddf69b61"
      },
      "execution_count": null,
      "outputs": [
        {
          "output_type": "execute_result",
          "data": {
            "text/plain": [
              "tensor(45.)"
            ]
          },
          "metadata": {},
          "execution_count": 89
        }
      ]
    },
    {
      "cell_type": "code",
      "source": [
        "x.type(torch.float32).mean()"
      ],
      "metadata": {
        "colab": {
          "base_uri": "https://localhost:8080/"
        },
        "id": "S2iXYWqgCfiG",
        "outputId": "b006e578-7fc1-44a8-b5c6-33c18d5b926d"
      },
      "execution_count": null,
      "outputs": [
        {
          "output_type": "execute_result",
          "data": {
            "text/plain": [
              "tensor(45.)"
            ]
          },
          "metadata": {},
          "execution_count": 87
        }
      ]
    },
    {
      "cell_type": "markdown",
      "source": [
        "### Finding the positional min and max"
      ],
      "metadata": {
        "id": "VhxjFZT2ESE9"
      }
    },
    {
      "cell_type": "code",
      "source": [
        "x.argmax()"
      ],
      "metadata": {
        "colab": {
          "base_uri": "https://localhost:8080/"
        },
        "id": "ggPki6kMC1Oc",
        "outputId": "494c34d4-b194-4f0c-9c3e-4bbaad17d2ad"
      },
      "execution_count": null,
      "outputs": [
        {
          "output_type": "execute_result",
          "data": {
            "text/plain": [
              "tensor(9)"
            ]
          },
          "metadata": {},
          "execution_count": 90
        }
      ]
    },
    {
      "cell_type": "code",
      "source": [
        "x"
      ],
      "metadata": {
        "colab": {
          "base_uri": "https://localhost:8080/"
        },
        "id": "E969qnYFDmLs",
        "outputId": "7293022a-06f0-47b8-dbaa-eca296e44674"
      },
      "execution_count": null,
      "outputs": [
        {
          "output_type": "execute_result",
          "data": {
            "text/plain": [
              "tensor([ 0, 10, 20, 30, 40, 50, 60, 70, 80, 90])"
            ]
          },
          "metadata": {},
          "execution_count": 91
        }
      ]
    },
    {
      "cell_type": "code",
      "source": [
        "y = torch.tensor([1,2,39,9,1,6])\n",
        "y.argmax()"
      ],
      "metadata": {
        "colab": {
          "base_uri": "https://localhost:8080/"
        },
        "id": "lwAoo2S5DnEM",
        "outputId": "a22867d6-1cc7-4e8c-aeac-45202d90b7eb"
      },
      "execution_count": null,
      "outputs": [
        {
          "output_type": "execute_result",
          "data": {
            "text/plain": [
              "tensor(2)"
            ]
          },
          "metadata": {},
          "execution_count": 92
        }
      ]
    },
    {
      "cell_type": "code",
      "source": [
        "y.argmin()"
      ],
      "metadata": {
        "colab": {
          "base_uri": "https://localhost:8080/"
        },
        "id": "9P5x-ROiD5sP",
        "outputId": "ebf5bd7b-d167-41fa-f31d-1a8d392cfd56"
      },
      "execution_count": null,
      "outputs": [
        {
          "output_type": "execute_result",
          "data": {
            "text/plain": [
              "tensor(0)"
            ]
          },
          "metadata": {},
          "execution_count": 93
        }
      ]
    },
    {
      "cell_type": "markdown",
      "source": [
        "## Reshaping, stacking, squeezing and unsqueezing tensors\n",
        "\n",
        "* Reshaping - reshapes an input tensor to a defined shape\n",
        "* View - Return a view of an input tensor of certain shape but keep the same memory\n",
        "* Stacking - combine multiple tensors on top of each other(vstack) or side by side (hstack)\n",
        "* Squeeze - removes all `1` dimensions from a tensor\n",
        "* Unsqueeze - add a `1` dimension to a target tensor\n",
        "* Permute - Return a view of the input with dimensions permuted (swapped) in a certain way"
      ],
      "metadata": {
        "id": "3q6LR4PVD9Rj"
      }
    },
    {
      "cell_type": "code",
      "source": [
        "# Let's create a tensor\n",
        "import torch\n",
        "x = torch.arange(0., 40.)\n",
        "x, x.shape"
      ],
      "metadata": {
        "colab": {
          "base_uri": "https://localhost:8080/"
        },
        "id": "HElpHo-OFuQR",
        "outputId": "70046f3a-012f-4306-8661-cffce22f40ba"
      },
      "execution_count": null,
      "outputs": [
        {
          "output_type": "execute_result",
          "data": {
            "text/plain": [
              "(tensor([ 0.,  1.,  2.,  3.,  4.,  5.,  6.,  7.,  8.,  9., 10., 11., 12., 13.,\n",
              "         14., 15., 16., 17., 18., 19., 20., 21., 22., 23., 24., 25., 26., 27.,\n",
              "         28., 29., 30., 31., 32., 33., 34., 35., 36., 37., 38., 39.]),\n",
              " torch.Size([40]))"
            ]
          },
          "metadata": {},
          "execution_count": 106
        }
      ]
    },
    {
      "cell_type": "code",
      "source": [
        "# Add an extra dimension\n",
        "x_reshaped = x.reshape(2, 2, 2, 5)\n",
        "x_reshaped, x_reshaped.shape"
      ],
      "metadata": {
        "colab": {
          "base_uri": "https://localhost:8080/"
        },
        "id": "zPQUsR9FF7dY",
        "outputId": "04b5793a-f0dc-4b6a-f854-d7eaf1c04106"
      },
      "execution_count": null,
      "outputs": [
        {
          "output_type": "execute_result",
          "data": {
            "text/plain": [
              "(tensor([[[[ 0.,  1.,  2.,  3.,  4.],\n",
              "           [ 5.,  6.,  7.,  8.,  9.]],\n",
              " \n",
              "          [[10., 11., 12., 13., 14.],\n",
              "           [15., 16., 17., 18., 19.]]],\n",
              " \n",
              " \n",
              "         [[[20., 21., 22., 23., 24.],\n",
              "           [25., 26., 27., 28., 29.]],\n",
              " \n",
              "          [[30., 31., 32., 33., 34.],\n",
              "           [35., 36., 37., 38., 39.]]]]),\n",
              " torch.Size([2, 2, 2, 5]))"
            ]
          },
          "metadata": {},
          "execution_count": 107
        }
      ]
    },
    {
      "cell_type": "code",
      "source": [
        "# Change the view\n",
        "z = x.view(8,5)\n",
        "z, z.shape"
      ],
      "metadata": {
        "colab": {
          "base_uri": "https://localhost:8080/"
        },
        "id": "keyqZukKGJPY",
        "outputId": "3b90a488-95d6-42d6-c2df-3db38909513c"
      },
      "execution_count": null,
      "outputs": [
        {
          "output_type": "execute_result",
          "data": {
            "text/plain": [
              "(tensor([[ 0.,  1.,  2.,  3.,  4.],\n",
              "         [ 5.,  6.,  7.,  8.,  9.],\n",
              "         [10., 11., 12., 13., 14.],\n",
              "         [15., 16., 17., 18., 19.],\n",
              "         [20., 21., 22., 23., 24.],\n",
              "         [25., 26., 27., 28., 29.],\n",
              "         [30., 31., 32., 33., 34.],\n",
              "         [35., 36., 37., 38., 39.]]),\n",
              " torch.Size([8, 5]))"
            ]
          },
          "metadata": {},
          "execution_count": 109
        }
      ]
    },
    {
      "cell_type": "code",
      "source": [
        "x, z"
      ],
      "metadata": {
        "colab": {
          "base_uri": "https://localhost:8080/"
        },
        "id": "AnVriZ6rK5VY",
        "outputId": "36b76289-59ab-4393-a271-eb638129f886"
      },
      "execution_count": null,
      "outputs": [
        {
          "output_type": "execute_result",
          "data": {
            "text/plain": [
              "(tensor([ 0.,  1.,  2.,  3.,  4.,  5.,  6.,  7.,  8.,  9., 10., 11., 12., 13.,\n",
              "         14., 15., 16., 17., 18., 19., 20., 21., 22., 23., 24., 25., 26., 27.,\n",
              "         28., 29., 30., 31., 32., 33., 34., 35., 36., 37., 38., 39.]),\n",
              " tensor([[ 0.,  1.,  2.,  3.,  4.],\n",
              "         [ 5.,  6.,  7.,  8.,  9.],\n",
              "         [10., 11., 12., 13., 14.],\n",
              "         [15., 16., 17., 18., 19.],\n",
              "         [20., 21., 22., 23., 24.],\n",
              "         [25., 26., 27., 28., 29.],\n",
              "         [30., 31., 32., 33., 34.],\n",
              "         [35., 36., 37., 38., 39.]]))"
            ]
          },
          "metadata": {},
          "execution_count": 112
        }
      ]
    },
    {
      "cell_type": "code",
      "source": [
        "# Changing z changes x (because a view of a tensor shares the same memory as the original input)\n",
        "z[:, 0] = 5\n",
        "x, z"
      ],
      "metadata": {
        "colab": {
          "base_uri": "https://localhost:8080/"
        },
        "id": "tZct9oUTLHGm",
        "outputId": "832a76a8-f64b-4c92-cd30-4b9d9ba02926"
      },
      "execution_count": null,
      "outputs": [
        {
          "output_type": "execute_result",
          "data": {
            "text/plain": [
              "(tensor([ 5.,  1.,  2.,  3.,  4.,  5.,  6.,  7.,  8.,  9.,  5., 11., 12., 13.,\n",
              "         14.,  5., 16., 17., 18., 19.,  5., 21., 22., 23., 24.,  5., 26., 27.,\n",
              "         28., 29.,  5., 31., 32., 33., 34.,  5., 36., 37., 38., 39.]),\n",
              " tensor([[ 5.,  1.,  2.,  3.,  4.],\n",
              "         [ 5.,  6.,  7.,  8.,  9.],\n",
              "         [ 5., 11., 12., 13., 14.],\n",
              "         [ 5., 16., 17., 18., 19.],\n",
              "         [ 5., 21., 22., 23., 24.],\n",
              "         [ 5., 26., 27., 28., 29.],\n",
              "         [ 5., 31., 32., 33., 34.],\n",
              "         [ 5., 36., 37., 38., 39.]]))"
            ]
          },
          "metadata": {},
          "execution_count": 115
        }
      ]
    },
    {
      "cell_type": "code",
      "source": [
        "# Stack tensors on top of each other\n",
        "x_stacked = torch.hstack([x,x,x,x])\n",
        "x_stacked, x_stacked.shape"
      ],
      "metadata": {
        "colab": {
          "base_uri": "https://localhost:8080/"
        },
        "id": "cbaYxQnULZGf",
        "outputId": "1eddbc6a-9256-4ea6-bdcc-d6d297e47433"
      },
      "execution_count": null,
      "outputs": [
        {
          "output_type": "execute_result",
          "data": {
            "text/plain": [
              "(tensor([ 5.,  1.,  2.,  3.,  4.,  5.,  6.,  7.,  8.,  9.,  5., 11., 12., 13.,\n",
              "         14.,  5., 16., 17., 18., 19.,  5., 21., 22., 23., 24.,  5., 26., 27.,\n",
              "         28., 29.,  5., 31., 32., 33., 34.,  5., 36., 37., 38., 39.,  5.,  1.,\n",
              "          2.,  3.,  4.,  5.,  6.,  7.,  8.,  9.,  5., 11., 12., 13., 14.,  5.,\n",
              "         16., 17., 18., 19.,  5., 21., 22., 23., 24.,  5., 26., 27., 28., 29.,\n",
              "          5., 31., 32., 33., 34.,  5., 36., 37., 38., 39.,  5.,  1.,  2.,  3.,\n",
              "          4.,  5.,  6.,  7.,  8.,  9.,  5., 11., 12., 13., 14.,  5., 16., 17.,\n",
              "         18., 19.,  5., 21., 22., 23., 24.,  5., 26., 27., 28., 29.,  5., 31.,\n",
              "         32., 33., 34.,  5., 36., 37., 38., 39.,  5.,  1.,  2.,  3.,  4.,  5.,\n",
              "          6.,  7.,  8.,  9.,  5., 11., 12., 13., 14.,  5., 16., 17., 18., 19.,\n",
              "          5., 21., 22., 23., 24.,  5., 26., 27., 28., 29.,  5., 31., 32., 33.,\n",
              "         34.,  5., 36., 37., 38., 39.]),\n",
              " torch.Size([160]))"
            ]
          },
          "metadata": {},
          "execution_count": 123
        }
      ]
    },
    {
      "cell_type": "code",
      "source": [
        "# torch.squeeze() - removes all single dimensions from a target tensor\n",
        "x_reshaped"
      ],
      "metadata": {
        "colab": {
          "base_uri": "https://localhost:8080/"
        },
        "id": "9Qo5EcaCMN8t",
        "outputId": "87e62614-fe7a-4577-d7c2-02d1419eb4da"
      },
      "execution_count": null,
      "outputs": [
        {
          "output_type": "execute_result",
          "data": {
            "text/plain": [
              "tensor([[[[ 5.,  1.,  2.,  3.,  4.],\n",
              "          [ 5.,  6.,  7.,  8.,  9.]],\n",
              "\n",
              "         [[ 5., 11., 12., 13., 14.],\n",
              "          [ 5., 16., 17., 18., 19.]]],\n",
              "\n",
              "\n",
              "        [[[ 5., 21., 22., 23., 24.],\n",
              "          [ 5., 26., 27., 28., 29.]],\n",
              "\n",
              "         [[ 5., 31., 32., 33., 34.],\n",
              "          [ 5., 36., 37., 38., 39.]]]])"
            ]
          },
          "metadata": {},
          "execution_count": 124
        }
      ]
    },
    {
      "cell_type": "code",
      "source": [
        "x = torch.arange(0., 9.)"
      ],
      "metadata": {
        "id": "betzSLO8NWdp"
      },
      "execution_count": null,
      "outputs": []
    },
    {
      "cell_type": "code",
      "source": [
        "x[0] = 5"
      ],
      "metadata": {
        "id": "WwOSl-AvNaMF"
      },
      "execution_count": null,
      "outputs": []
    },
    {
      "cell_type": "code",
      "source": [
        "x"
      ],
      "metadata": {
        "colab": {
          "base_uri": "https://localhost:8080/"
        },
        "id": "g1EMeX0ONfA_",
        "outputId": "c46c9941-a924-4f61-abec-b47456f87c69"
      },
      "execution_count": null,
      "outputs": [
        {
          "output_type": "execute_result",
          "data": {
            "text/plain": [
              "tensor([5., 1., 2., 3., 4., 5., 6., 7., 8.])"
            ]
          },
          "metadata": {},
          "execution_count": 141
        }
      ]
    },
    {
      "cell_type": "code",
      "source": [
        "x.shape"
      ],
      "metadata": {
        "colab": {
          "base_uri": "https://localhost:8080/"
        },
        "id": "SeEW6GcPNg0A",
        "outputId": "c3b3e05e-2f75-4330-95a0-a1dc8da1a7ad"
      },
      "execution_count": null,
      "outputs": [
        {
          "output_type": "execute_result",
          "data": {
            "text/plain": [
              "torch.Size([9])"
            ]
          },
          "metadata": {},
          "execution_count": 142
        }
      ]
    },
    {
      "cell_type": "code",
      "source": [
        "x_reshape = x.reshape(1,9)"
      ],
      "metadata": {
        "id": "YmQKNsH0Nt6J"
      },
      "execution_count": null,
      "outputs": []
    },
    {
      "cell_type": "code",
      "source": [
        "x_reshape, x_reshape.shape"
      ],
      "metadata": {
        "colab": {
          "base_uri": "https://localhost:8080/"
        },
        "id": "cqxoSAttN2pQ",
        "outputId": "0061cf1f-a025-4434-83c2-df07a6a58df8"
      },
      "execution_count": null,
      "outputs": [
        {
          "output_type": "execute_result",
          "data": {
            "text/plain": [
              "(tensor([[5., 1., 2., 3., 4., 5., 6., 7., 8.]]), torch.Size([1, 9]))"
            ]
          },
          "metadata": {},
          "execution_count": 145
        }
      ]
    },
    {
      "cell_type": "code",
      "source": [
        "x_reshape.squeeze_()"
      ],
      "metadata": {
        "colab": {
          "base_uri": "https://localhost:8080/"
        },
        "id": "dDf2ZDilN-RH",
        "outputId": "97146fe6-4e24-4c03-ae9f-70879e00204a"
      },
      "execution_count": null,
      "outputs": [
        {
          "output_type": "execute_result",
          "data": {
            "text/plain": [
              "tensor([5., 1., 2., 3., 4., 5., 6., 7., 8.])"
            ]
          },
          "metadata": {},
          "execution_count": 148
        }
      ]
    },
    {
      "cell_type": "code",
      "source": [
        "x_reshape.shape"
      ],
      "metadata": {
        "colab": {
          "base_uri": "https://localhost:8080/"
        },
        "id": "8lvT8oMoONsI",
        "outputId": "11dff670-8a3e-4065-f1d9-deeabca61d32"
      },
      "execution_count": null,
      "outputs": [
        {
          "output_type": "execute_result",
          "data": {
            "text/plain": [
              "torch.Size([9])"
            ]
          },
          "metadata": {},
          "execution_count": 149
        }
      ]
    },
    {
      "cell_type": "code",
      "source": [
        "# torch.unsqueeze() - adds single dim to a target tensor at a specific dim (dimension)"
      ],
      "metadata": {
        "id": "PNUyKJnOOQ8Y"
      },
      "execution_count": null,
      "outputs": []
    },
    {
      "cell_type": "code",
      "source": [
        "print(f'previous target: {x_reshape}')\n",
        "print(f'\\nprevious shape: {x_reshape.shape}')\n",
        "\n",
        "# Add an extra dimension with unsqueeze\n",
        "x_unsqueezed = x_reshape.unsqueeze(dim=0)\n",
        "print(f'\\nNew Tensor: {x_unsqueezed}')\n",
        "print(f'\\nNew shape: {x_unsqueezed.shape}')"
      ],
      "metadata": {
        "colab": {
          "base_uri": "https://localhost:8080/"
        },
        "id": "zbEBKfh6Pkxz",
        "outputId": "68af559f-fc81-4e6c-8c79-be9d8d0e6d8f"
      },
      "execution_count": null,
      "outputs": [
        {
          "output_type": "stream",
          "name": "stdout",
          "text": [
            "previous target: tensor([5., 1., 2., 3., 4., 5., 6., 7., 8.])\n",
            "\n",
            "previous shape: torch.Size([9])\n",
            "\n",
            "New Tensor: tensor([[5., 1., 2., 3., 4., 5., 6., 7., 8.]])\n",
            "\n",
            "New shape: torch.Size([1, 9])\n"
          ]
        }
      ]
    },
    {
      "cell_type": "code",
      "source": [
        " # torch.permute() - rearranges the dimensions of a target tensor in a specified order\n",
        " x_original = torch.rand(size=(224,224, 3)) # H, W, C\n",
        "\n",
        " # Permute the original tensor to rearrange the axis (or dim) order\n",
        " x_permuted = x_original.permute(2, 0, 1) # Shifts axis 0->1, 1->2, 2->0"
      ],
      "metadata": {
        "id": "K0Vn2SWUPm8z"
      },
      "execution_count": null,
      "outputs": []
    },
    {
      "cell_type": "code",
      "source": [
        "x_permuted, x_original, x_permuted.shape, x_original.shape"
      ],
      "metadata": {
        "colab": {
          "base_uri": "https://localhost:8080/"
        },
        "id": "6pfFIURiT2bK",
        "outputId": "12d01f08-e628-47fe-c90d-648284c41ad1"
      },
      "execution_count": null,
      "outputs": [
        {
          "output_type": "execute_result",
          "data": {
            "text/plain": [
              "(tensor([[[0.1184, 0.2002, 0.9433,  ..., 0.1793, 0.9734, 0.0577],\n",
              "          [0.6789, 0.4094, 0.4215,  ..., 0.4696, 0.1920, 0.5446],\n",
              "          [0.2265, 0.6312, 0.8978,  ..., 0.1078, 0.1465, 0.0419],\n",
              "          ...,\n",
              "          [0.9010, 0.9660, 0.6830,  ..., 0.7720, 0.3307, 0.4985],\n",
              "          [0.1323, 0.8274, 0.8516,  ..., 0.0374, 0.2513, 0.6367],\n",
              "          [0.4348, 0.6002, 0.7294,  ..., 0.2642, 0.3936, 0.8184]],\n",
              " \n",
              "         [[0.2052, 0.0556, 0.3428,  ..., 0.3001, 0.0608, 0.6785],\n",
              "          [0.5224, 0.2743, 0.2061,  ..., 0.8429, 0.4682, 0.4494],\n",
              "          [0.3227, 0.1060, 0.8861,  ..., 0.9776, 0.1328, 0.8046],\n",
              "          ...,\n",
              "          [0.7235, 0.2722, 0.3220,  ..., 0.4466, 0.9241, 0.3225],\n",
              "          [0.9269, 0.2863, 0.5028,  ..., 0.9385, 0.2719, 0.7442],\n",
              "          [0.7640, 0.9199, 0.0473,  ..., 0.5292, 0.3587, 0.4554]],\n",
              " \n",
              "         [[0.4381, 0.3095, 0.3833,  ..., 0.1496, 0.0397, 0.3835],\n",
              "          [0.0779, 0.0037, 0.1473,  ..., 0.3463, 0.7921, 0.7946],\n",
              "          [0.1910, 0.3435, 0.8842,  ..., 0.5466, 0.6445, 0.6978],\n",
              "          ...,\n",
              "          [0.0725, 0.0385, 0.0228,  ..., 0.0953, 0.1847, 0.2128],\n",
              "          [0.4428, 0.5156, 0.4958,  ..., 0.1169, 0.0074, 0.3575],\n",
              "          [0.4720, 0.3241, 0.8422,  ..., 0.6813, 0.7476, 0.3870]]]),\n",
              " tensor([[[0.1184, 0.2052, 0.4381],\n",
              "          [0.2002, 0.0556, 0.3095],\n",
              "          [0.9433, 0.3428, 0.3833],\n",
              "          ...,\n",
              "          [0.1793, 0.3001, 0.1496],\n",
              "          [0.9734, 0.0608, 0.0397],\n",
              "          [0.0577, 0.6785, 0.3835]],\n",
              " \n",
              "         [[0.6789, 0.5224, 0.0779],\n",
              "          [0.4094, 0.2743, 0.0037],\n",
              "          [0.4215, 0.2061, 0.1473],\n",
              "          ...,\n",
              "          [0.4696, 0.8429, 0.3463],\n",
              "          [0.1920, 0.4682, 0.7921],\n",
              "          [0.5446, 0.4494, 0.7946]],\n",
              " \n",
              "         [[0.2265, 0.3227, 0.1910],\n",
              "          [0.6312, 0.1060, 0.3435],\n",
              "          [0.8978, 0.8861, 0.8842],\n",
              "          ...,\n",
              "          [0.1078, 0.9776, 0.5466],\n",
              "          [0.1465, 0.1328, 0.6445],\n",
              "          [0.0419, 0.8046, 0.6978]],\n",
              " \n",
              "         ...,\n",
              " \n",
              "         [[0.9010, 0.7235, 0.0725],\n",
              "          [0.9660, 0.2722, 0.0385],\n",
              "          [0.6830, 0.3220, 0.0228],\n",
              "          ...,\n",
              "          [0.7720, 0.4466, 0.0953],\n",
              "          [0.3307, 0.9241, 0.1847],\n",
              "          [0.4985, 0.3225, 0.2128]],\n",
              " \n",
              "         [[0.1323, 0.9269, 0.4428],\n",
              "          [0.8274, 0.2863, 0.5156],\n",
              "          [0.8516, 0.5028, 0.4958],\n",
              "          ...,\n",
              "          [0.0374, 0.9385, 0.1169],\n",
              "          [0.2513, 0.2719, 0.0074],\n",
              "          [0.6367, 0.7442, 0.3575]],\n",
              " \n",
              "         [[0.4348, 0.7640, 0.4720],\n",
              "          [0.6002, 0.9199, 0.3241],\n",
              "          [0.7294, 0.0473, 0.8422],\n",
              "          ...,\n",
              "          [0.2642, 0.5292, 0.6813],\n",
              "          [0.3936, 0.3587, 0.7476],\n",
              "          [0.8184, 0.4554, 0.3870]]]),\n",
              " torch.Size([3, 224, 224]),\n",
              " torch.Size([224, 224, 3]))"
            ]
          },
          "metadata": {},
          "execution_count": 158
        }
      ]
    },
    {
      "cell_type": "code",
      "source": [
        "x_permuted[:, :, 0] = 1\n",
        "x_permuted, x_original"
      ],
      "metadata": {
        "colab": {
          "base_uri": "https://localhost:8080/"
        },
        "id": "9QNMKXEJT63x",
        "outputId": "bf1784b7-0dda-4f8f-8de8-8b696d243eca"
      },
      "execution_count": null,
      "outputs": [
        {
          "output_type": "execute_result",
          "data": {
            "text/plain": [
              "(tensor([[[1.0000, 0.2002, 0.9433,  ..., 0.1793, 0.9734, 0.0577],\n",
              "          [1.0000, 0.4094, 0.4215,  ..., 0.4696, 0.1920, 0.5446],\n",
              "          [1.0000, 0.6312, 0.8978,  ..., 0.1078, 0.1465, 0.0419],\n",
              "          ...,\n",
              "          [1.0000, 0.9660, 0.6830,  ..., 0.7720, 0.3307, 0.4985],\n",
              "          [1.0000, 0.8274, 0.8516,  ..., 0.0374, 0.2513, 0.6367],\n",
              "          [1.0000, 0.6002, 0.7294,  ..., 0.2642, 0.3936, 0.8184]],\n",
              " \n",
              "         [[1.0000, 0.0556, 0.3428,  ..., 0.3001, 0.0608, 0.6785],\n",
              "          [1.0000, 0.2743, 0.2061,  ..., 0.8429, 0.4682, 0.4494],\n",
              "          [1.0000, 0.1060, 0.8861,  ..., 0.9776, 0.1328, 0.8046],\n",
              "          ...,\n",
              "          [1.0000, 0.2722, 0.3220,  ..., 0.4466, 0.9241, 0.3225],\n",
              "          [1.0000, 0.2863, 0.5028,  ..., 0.9385, 0.2719, 0.7442],\n",
              "          [1.0000, 0.9199, 0.0473,  ..., 0.5292, 0.3587, 0.4554]],\n",
              " \n",
              "         [[1.0000, 0.3095, 0.3833,  ..., 0.1496, 0.0397, 0.3835],\n",
              "          [1.0000, 0.0037, 0.1473,  ..., 0.3463, 0.7921, 0.7946],\n",
              "          [1.0000, 0.3435, 0.8842,  ..., 0.5466, 0.6445, 0.6978],\n",
              "          ...,\n",
              "          [1.0000, 0.0385, 0.0228,  ..., 0.0953, 0.1847, 0.2128],\n",
              "          [1.0000, 0.5156, 0.4958,  ..., 0.1169, 0.0074, 0.3575],\n",
              "          [1.0000, 0.3241, 0.8422,  ..., 0.6813, 0.7476, 0.3870]]]),\n",
              " tensor([[[1.0000, 1.0000, 1.0000],\n",
              "          [0.2002, 0.0556, 0.3095],\n",
              "          [0.9433, 0.3428, 0.3833],\n",
              "          ...,\n",
              "          [0.1793, 0.3001, 0.1496],\n",
              "          [0.9734, 0.0608, 0.0397],\n",
              "          [0.0577, 0.6785, 0.3835]],\n",
              " \n",
              "         [[1.0000, 1.0000, 1.0000],\n",
              "          [0.4094, 0.2743, 0.0037],\n",
              "          [0.4215, 0.2061, 0.1473],\n",
              "          ...,\n",
              "          [0.4696, 0.8429, 0.3463],\n",
              "          [0.1920, 0.4682, 0.7921],\n",
              "          [0.5446, 0.4494, 0.7946]],\n",
              " \n",
              "         [[1.0000, 1.0000, 1.0000],\n",
              "          [0.6312, 0.1060, 0.3435],\n",
              "          [0.8978, 0.8861, 0.8842],\n",
              "          ...,\n",
              "          [0.1078, 0.9776, 0.5466],\n",
              "          [0.1465, 0.1328, 0.6445],\n",
              "          [0.0419, 0.8046, 0.6978]],\n",
              " \n",
              "         ...,\n",
              " \n",
              "         [[1.0000, 1.0000, 1.0000],\n",
              "          [0.9660, 0.2722, 0.0385],\n",
              "          [0.6830, 0.3220, 0.0228],\n",
              "          ...,\n",
              "          [0.7720, 0.4466, 0.0953],\n",
              "          [0.3307, 0.9241, 0.1847],\n",
              "          [0.4985, 0.3225, 0.2128]],\n",
              " \n",
              "         [[1.0000, 1.0000, 1.0000],\n",
              "          [0.8274, 0.2863, 0.5156],\n",
              "          [0.8516, 0.5028, 0.4958],\n",
              "          ...,\n",
              "          [0.0374, 0.9385, 0.1169],\n",
              "          [0.2513, 0.2719, 0.0074],\n",
              "          [0.6367, 0.7442, 0.3575]],\n",
              " \n",
              "         [[1.0000, 1.0000, 1.0000],\n",
              "          [0.6002, 0.9199, 0.3241],\n",
              "          [0.7294, 0.0473, 0.8422],\n",
              "          ...,\n",
              "          [0.2642, 0.5292, 0.6813],\n",
              "          [0.3936, 0.3587, 0.7476],\n",
              "          [0.8184, 0.4554, 0.3870]]]))"
            ]
          },
          "metadata": {},
          "execution_count": 159
        }
      ]
    },
    {
      "cell_type": "code",
      "source": [
        "x_original[:, :, 0] = 0\n",
        "x_permuted, x_original"
      ],
      "metadata": {
        "colab": {
          "base_uri": "https://localhost:8080/"
        },
        "id": "Svnko8AfUJVI",
        "outputId": "6e2de43f-3087-43e6-89db-b369e04bd31a"
      },
      "execution_count": null,
      "outputs": [
        {
          "output_type": "execute_result",
          "data": {
            "text/plain": [
              "(tensor([[[0.0000, 0.0000, 0.0000,  ..., 0.0000, 0.0000, 0.0000],\n",
              "          [0.0000, 0.0000, 0.0000,  ..., 0.0000, 0.0000, 0.0000],\n",
              "          [0.0000, 0.0000, 0.0000,  ..., 0.0000, 0.0000, 0.0000],\n",
              "          ...,\n",
              "          [0.0000, 0.0000, 0.0000,  ..., 0.0000, 0.0000, 0.0000],\n",
              "          [0.0000, 0.0000, 0.0000,  ..., 0.0000, 0.0000, 0.0000],\n",
              "          [0.0000, 0.0000, 0.0000,  ..., 0.0000, 0.0000, 0.0000]],\n",
              " \n",
              "         [[1.0000, 0.0556, 0.3428,  ..., 0.3001, 0.0608, 0.6785],\n",
              "          [1.0000, 0.2743, 0.2061,  ..., 0.8429, 0.4682, 0.4494],\n",
              "          [1.0000, 0.1060, 0.8861,  ..., 0.9776, 0.1328, 0.8046],\n",
              "          ...,\n",
              "          [1.0000, 0.2722, 0.3220,  ..., 0.4466, 0.9241, 0.3225],\n",
              "          [1.0000, 0.2863, 0.5028,  ..., 0.9385, 0.2719, 0.7442],\n",
              "          [1.0000, 0.9199, 0.0473,  ..., 0.5292, 0.3587, 0.4554]],\n",
              " \n",
              "         [[1.0000, 0.3095, 0.3833,  ..., 0.1496, 0.0397, 0.3835],\n",
              "          [1.0000, 0.0037, 0.1473,  ..., 0.3463, 0.7921, 0.7946],\n",
              "          [1.0000, 0.3435, 0.8842,  ..., 0.5466, 0.6445, 0.6978],\n",
              "          ...,\n",
              "          [1.0000, 0.0385, 0.0228,  ..., 0.0953, 0.1847, 0.2128],\n",
              "          [1.0000, 0.5156, 0.4958,  ..., 0.1169, 0.0074, 0.3575],\n",
              "          [1.0000, 0.3241, 0.8422,  ..., 0.6813, 0.7476, 0.3870]]]),\n",
              " tensor([[[0.0000, 1.0000, 1.0000],\n",
              "          [0.0000, 0.0556, 0.3095],\n",
              "          [0.0000, 0.3428, 0.3833],\n",
              "          ...,\n",
              "          [0.0000, 0.3001, 0.1496],\n",
              "          [0.0000, 0.0608, 0.0397],\n",
              "          [0.0000, 0.6785, 0.3835]],\n",
              " \n",
              "         [[0.0000, 1.0000, 1.0000],\n",
              "          [0.0000, 0.2743, 0.0037],\n",
              "          [0.0000, 0.2061, 0.1473],\n",
              "          ...,\n",
              "          [0.0000, 0.8429, 0.3463],\n",
              "          [0.0000, 0.4682, 0.7921],\n",
              "          [0.0000, 0.4494, 0.7946]],\n",
              " \n",
              "         [[0.0000, 1.0000, 1.0000],\n",
              "          [0.0000, 0.1060, 0.3435],\n",
              "          [0.0000, 0.8861, 0.8842],\n",
              "          ...,\n",
              "          [0.0000, 0.9776, 0.5466],\n",
              "          [0.0000, 0.1328, 0.6445],\n",
              "          [0.0000, 0.8046, 0.6978]],\n",
              " \n",
              "         ...,\n",
              " \n",
              "         [[0.0000, 1.0000, 1.0000],\n",
              "          [0.0000, 0.2722, 0.0385],\n",
              "          [0.0000, 0.3220, 0.0228],\n",
              "          ...,\n",
              "          [0.0000, 0.4466, 0.0953],\n",
              "          [0.0000, 0.9241, 0.1847],\n",
              "          [0.0000, 0.3225, 0.2128]],\n",
              " \n",
              "         [[0.0000, 1.0000, 1.0000],\n",
              "          [0.0000, 0.2863, 0.5156],\n",
              "          [0.0000, 0.5028, 0.4958],\n",
              "          ...,\n",
              "          [0.0000, 0.9385, 0.1169],\n",
              "          [0.0000, 0.2719, 0.0074],\n",
              "          [0.0000, 0.7442, 0.3575]],\n",
              " \n",
              "         [[0.0000, 1.0000, 1.0000],\n",
              "          [0.0000, 0.9199, 0.3241],\n",
              "          [0.0000, 0.0473, 0.8422],\n",
              "          ...,\n",
              "          [0.0000, 0.5292, 0.6813],\n",
              "          [0.0000, 0.3587, 0.7476],\n",
              "          [0.0000, 0.4554, 0.3870]]]))"
            ]
          },
          "metadata": {},
          "execution_count": 160
        }
      ]
    },
    {
      "cell_type": "markdown",
      "source": [
        "### Indexing (selecting data from tensors)\n",
        "\n",
        "indexing with PyTorch is similar to indexing with NumPy"
      ],
      "metadata": {
        "id": "5WfFQJpnUYxj"
      }
    },
    {
      "cell_type": "code",
      "source": [
        "# Create a tensor\n",
        "import torch\n",
        "x = torch.arange(1., 10.).reshape(1,3,3)\n",
        "x, x.shape"
      ],
      "metadata": {
        "colab": {
          "base_uri": "https://localhost:8080/"
        },
        "id": "uDZgacKaVi9V",
        "outputId": "0394a418-74a2-4709-ef02-67ac6e97731f"
      },
      "execution_count": null,
      "outputs": [
        {
          "output_type": "execute_result",
          "data": {
            "text/plain": [
              "(tensor([[[1., 2., 3.],\n",
              "          [4., 5., 6.],\n",
              "          [7., 8., 9.]]]),\n",
              " torch.Size([1, 3, 3]))"
            ]
          },
          "metadata": {},
          "execution_count": 161
        }
      ]
    },
    {
      "cell_type": "code",
      "source": [
        "# Let's index on our new tensor\n",
        "x[0, 0, 2]"
      ],
      "metadata": {
        "colab": {
          "base_uri": "https://localhost:8080/"
        },
        "id": "U2WiK2cmVvKN",
        "outputId": "f4696929-ea27-4729-d794-e50c72c89830"
      },
      "execution_count": null,
      "outputs": [
        {
          "output_type": "execute_result",
          "data": {
            "text/plain": [
              "tensor(3.)"
            ]
          },
          "metadata": {},
          "execution_count": 167
        }
      ]
    },
    {
      "cell_type": "code",
      "source": [
        "x[0], x[0, 0], x[0, 0, 0]"
      ],
      "metadata": {
        "colab": {
          "base_uri": "https://localhost:8080/"
        },
        "id": "shO87KINWAZd",
        "outputId": "855df85c-be31-4794-9805-7d6dc72c1324"
      },
      "execution_count": null,
      "outputs": [
        {
          "output_type": "execute_result",
          "data": {
            "text/plain": [
              "(tensor([[1., 2., 3.],\n",
              "         [4., 5., 6.],\n",
              "         [7., 8., 9.]]),\n",
              " tensor([1., 2., 3.]),\n",
              " tensor(1.))"
            ]
          },
          "metadata": {},
          "execution_count": 168
        }
      ]
    },
    {
      "cell_type": "code",
      "source": [
        "x[:, -1]"
      ],
      "metadata": {
        "colab": {
          "base_uri": "https://localhost:8080/"
        },
        "id": "IDE2A5eKWVOL",
        "outputId": "669fdac2-9875-45f8-f67e-58793c30b4fd"
      },
      "execution_count": null,
      "outputs": [
        {
          "output_type": "execute_result",
          "data": {
            "text/plain": [
              "tensor([[7., 8., 9.]])"
            ]
          },
          "metadata": {},
          "execution_count": 170
        }
      ]
    },
    {
      "cell_type": "code",
      "source": [
        "gh = torch.randn(3,3,3)"
      ],
      "metadata": {
        "id": "18LIJ9_rXATC"
      },
      "execution_count": null,
      "outputs": []
    },
    {
      "cell_type": "code",
      "source": [
        "gh"
      ],
      "metadata": {
        "colab": {
          "base_uri": "https://localhost:8080/"
        },
        "id": "VCnUI-lfXLXv",
        "outputId": "767f634a-070a-42ab-b95b-c7180906176a"
      },
      "execution_count": null,
      "outputs": [
        {
          "output_type": "execute_result",
          "data": {
            "text/plain": [
              "tensor([[[-1.8023,  0.3577, -0.0428],\n",
              "         [ 1.0715, -0.6753,  0.3381],\n",
              "         [ 0.4486,  0.6700, -1.0773]],\n",
              "\n",
              "        [[-3.4112,  0.0358,  0.8539],\n",
              "         [ 0.4186,  0.2325, -0.5761],\n",
              "         [ 0.0286, -0.0085, -0.6641]],\n",
              "\n",
              "        [[ 0.1323,  0.7772, -0.7666],\n",
              "         [-0.2313, -1.0537,  0.0527],\n",
              "         [ 2.2188,  1.0865, -1.0211]]])"
            ]
          },
          "metadata": {},
          "execution_count": 172
        }
      ]
    },
    {
      "cell_type": "code",
      "source": [
        "gh[:, -1]"
      ],
      "metadata": {
        "colab": {
          "base_uri": "https://localhost:8080/"
        },
        "id": "PZ7CHliHXL5l",
        "outputId": "80ad7c9d-e5f9-4af9-bea1-b525fe1db07a"
      },
      "execution_count": null,
      "outputs": [
        {
          "output_type": "execute_result",
          "data": {
            "text/plain": [
              "tensor([[ 0.4486,  0.6700, -1.0773],\n",
              "        [ 0.0286, -0.0085, -0.6641],\n",
              "        [ 2.2188,  1.0865, -1.0211]])"
            ]
          },
          "metadata": {},
          "execution_count": 175
        }
      ]
    },
    {
      "cell_type": "code",
      "source": [
        "# Get all values of 0th and 1st dimensions but only index 1 of 2nd dimension\n",
        "x[:, :, 1]"
      ],
      "metadata": {
        "colab": {
          "base_uri": "https://localhost:8080/"
        },
        "id": "G4Ld2pyqXNdi",
        "outputId": "7e7cbc63-e4b0-474f-a562-f2bf2b9d0146"
      },
      "execution_count": null,
      "outputs": [
        {
          "output_type": "execute_result",
          "data": {
            "text/plain": [
              "tensor([[2., 5., 8.]])"
            ]
          },
          "metadata": {},
          "execution_count": 176
        }
      ]
    },
    {
      "cell_type": "code",
      "source": [
        "# Get all values of the 0 dimension but only the 1 index value of 1st and 2nd dimension\n",
        "x[:, 1, 1]"
      ],
      "metadata": {
        "colab": {
          "base_uri": "https://localhost:8080/"
        },
        "id": "uk-Pu3XeXkm0",
        "outputId": "56f0116f-a0dd-4932-cee7-bbb9d10883c0"
      },
      "execution_count": null,
      "outputs": [
        {
          "output_type": "execute_result",
          "data": {
            "text/plain": [
              "tensor([5.])"
            ]
          },
          "metadata": {},
          "execution_count": 177
        }
      ]
    },
    {
      "cell_type": "code",
      "source": [
        "# Get index 0 of 0th and 1st dimension and all values of 2nd dimension\n",
        "x[0, 0, :]"
      ],
      "metadata": {
        "colab": {
          "base_uri": "https://localhost:8080/"
        },
        "id": "u-uuZyoUXxuA",
        "outputId": "6517af46-f6f5-4e1c-a5cb-113b1908821e"
      },
      "execution_count": null,
      "outputs": [
        {
          "output_type": "execute_result",
          "data": {
            "text/plain": [
              "tensor([1., 2., 3.])"
            ]
          },
          "metadata": {},
          "execution_count": 178
        }
      ]
    },
    {
      "cell_type": "code",
      "source": [
        "# INdex on x to return 9\n",
        "print(x[0,2,2])\n",
        "# iNdex on x to retunr 3,6,9\n",
        "print(x[:, :, 2])"
      ],
      "metadata": {
        "colab": {
          "base_uri": "https://localhost:8080/"
        },
        "id": "5urae_i5X8Rb",
        "outputId": "9a290ae8-ce73-48b6-a779-0e314289f763"
      },
      "execution_count": null,
      "outputs": [
        {
          "output_type": "stream",
          "name": "stdout",
          "text": [
            "tensor(9.)\n",
            "tensor([[3., 6., 9.]])\n"
          ]
        }
      ]
    },
    {
      "cell_type": "code",
      "source": [
        "x"
      ],
      "metadata": {
        "colab": {
          "base_uri": "https://localhost:8080/"
        },
        "id": "Vmhx77bVYNcr",
        "outputId": "eb46b6bc-8815-4f2b-c087-ac6bc3c0258a"
      },
      "execution_count": null,
      "outputs": [
        {
          "output_type": "execute_result",
          "data": {
            "text/plain": [
              "tensor([[[1., 2., 3.],\n",
              "         [4., 5., 6.],\n",
              "         [7., 8., 9.]]])"
            ]
          },
          "metadata": {},
          "execution_count": 187
        }
      ]
    },
    {
      "cell_type": "markdown",
      "source": [
        "## PyTorch tensors & NumPy\n",
        "\n",
        "NumPy is a popular scientific Python numerical computing library.\n",
        "\n",
        "And because of this, PyTorch has functionality to interact with it.\n",
        "\n",
        "* Data in NumPy, want in PyTorch tensor -> `torch.from_numpy(ndarray)`\n",
        "* PyTorch tensor -> NumPy -> `torch.Tensor.numpy()`"
      ],
      "metadata": {
        "id": "-0C7Y49iYv9R"
      }
    },
    {
      "cell_type": "code",
      "source": [
        "# NumPy array to tensor\n",
        "import torch\n",
        "\n",
        "array = np.arange(1.0, 8.0)\n",
        "tensor = torch.from_numpy(array)\n",
        "array, tensor"
      ],
      "metadata": {
        "colab": {
          "base_uri": "https://localhost:8080/"
        },
        "id": "luc-eYvAZFiu",
        "outputId": "21c12f03-54e9-4eec-f180-1f88aa8f27e2"
      },
      "execution_count": null,
      "outputs": [
        {
          "output_type": "execute_result",
          "data": {
            "text/plain": [
              "(array([1., 2., 3., 4., 5., 6., 7.]),\n",
              " tensor([1., 2., 3., 4., 5., 6., 7.], dtype=torch.float64))"
            ]
          },
          "metadata": {},
          "execution_count": 188
        }
      ]
    },
    {
      "cell_type": "code",
      "source": [
        "array.dtype"
      ],
      "metadata": {
        "colab": {
          "base_uri": "https://localhost:8080/"
        },
        "id": "98DhLZZYbImV",
        "outputId": "907ee7a0-86ab-4acf-a375-c9b144330c1e"
      },
      "execution_count": null,
      "outputs": [
        {
          "output_type": "execute_result",
          "data": {
            "text/plain": [
              "dtype('float64')"
            ]
          },
          "metadata": {},
          "execution_count": 189
        }
      ]
    },
    {
      "cell_type": "code",
      "source": [
        "tensor.dtype # Remember that when converting from numpy array to tensor, dtype will be float64 by default, so change the dtype when converting"
      ],
      "metadata": {
        "colab": {
          "base_uri": "https://localhost:8080/"
        },
        "id": "j_aUlkwNbNmQ",
        "outputId": "7a38ee84-de4e-4737-c6dd-4abffe61d990"
      },
      "execution_count": null,
      "outputs": [
        {
          "output_type": "execute_result",
          "data": {
            "text/plain": [
              "torch.float64"
            ]
          },
          "metadata": {},
          "execution_count": 190
        }
      ]
    },
    {
      "cell_type": "code",
      "source": [
        "# Tensor to NumPy array\n",
        "tensor = torch.ones(7)\n",
        "numpy_tensor = tensor.numpy()\n",
        "tensor, numpy_tensor"
      ],
      "metadata": {
        "colab": {
          "base_uri": "https://localhost:8080/"
        },
        "id": "xtGJSpJqbTj5",
        "outputId": "aedc238c-9f6e-4313-ef2c-1b7d4b27cb56"
      },
      "execution_count": null,
      "outputs": [
        {
          "output_type": "execute_result",
          "data": {
            "text/plain": [
              "(tensor([1., 1., 1., 1., 1., 1., 1.]),\n",
              " array([1., 1., 1., 1., 1., 1., 1.], dtype=float32))"
            ]
          },
          "metadata": {},
          "execution_count": 191
        }
      ]
    },
    {
      "cell_type": "markdown",
      "source": [
        "## Reproducbility (trying to take random out of random)\n",
        "\n",
        "In short how a neural network learns:\n",
        "\n",
        "`start with random numbers -> tensor operations -> update random numbers to try and make them better represenations of the data -> again -> again -> again`\n",
        "\n",
        "To reduce randomness in neural networks and PyTOrch comes the concept of a random seed.\n",
        "\n",
        "Essentially wha tthe random seed is \"flavour\" the randomness\n",
        "\n"
      ],
      "metadata": {
        "id": "Z0sS2r2zdmoO"
      }
    },
    {
      "cell_type": "code",
      "source": [
        "\n",
        "# Create two random tensors\n",
        "random_tensor_A = torch.rand(3,4)\n",
        "random_tensor_B = torch.rand(3,4)\n",
        "\n",
        "print(random_tensor_A)\n",
        "print(random_tensor_B)\n",
        "print(random_tensor_A == random_tensor_B)"
      ],
      "metadata": {
        "colab": {
          "base_uri": "https://localhost:8080/"
        },
        "id": "-VRCummse3Bj",
        "outputId": "d36b6399-7344-4dbe-f61c-b4d5a0b93d87"
      },
      "execution_count": null,
      "outputs": [
        {
          "output_type": "stream",
          "name": "stdout",
          "text": [
            "tensor([[0.0596, 0.6276, 0.9205, 0.7128],\n",
            "        [0.6896, 0.1716, 0.8382, 0.4655],\n",
            "        [0.4798, 0.9803, 0.7281, 0.4093]])\n",
            "tensor([[0.9889, 0.8306, 0.7486, 0.1431],\n",
            "        [0.2525, 0.1399, 0.8055, 0.4203],\n",
            "        [0.3183, 0.0513, 0.3939, 0.5265]])\n",
            "tensor([[False, False, False, False],\n",
            "        [False, False, False, False],\n",
            "        [False, False, False, False]])\n"
          ]
        }
      ]
    },
    {
      "cell_type": "code",
      "source": [
        "# Let's make some random but reproducible tensors\n",
        "import torch\n",
        "\n",
        "# Set the random seed\n",
        "RANDOM_SEED = 42\n",
        "torch.manual_seed(RANDOM_SEED)\n",
        "\n",
        "random_tensor_C = torch.rand(3, 4)\n",
        "\n",
        "torch.manual_seed(RANDOM_SEED)\n",
        "random_tensor_D = torch.rand(3, 4)\n",
        "\n",
        "print(random_tensor_C)\n",
        "print(random_tensor_D)\n",
        "print(random_tensor_C == random_tensor_D)"
      ],
      "metadata": {
        "colab": {
          "base_uri": "https://localhost:8080/"
        },
        "id": "vGTa7gsce4uP",
        "outputId": "df2f7275-2eb0-4011-cde4-20ff2ba96379"
      },
      "execution_count": null,
      "outputs": [
        {
          "output_type": "stream",
          "name": "stdout",
          "text": [
            "tensor([[0.8823, 0.9150, 0.3829, 0.9593],\n",
            "        [0.3904, 0.6009, 0.2566, 0.7936],\n",
            "        [0.9408, 0.1332, 0.9346, 0.5936]])\n",
            "tensor([[0.8823, 0.9150, 0.3829, 0.9593],\n",
            "        [0.3904, 0.6009, 0.2566, 0.7936],\n",
            "        [0.9408, 0.1332, 0.9346, 0.5936]])\n",
            "tensor([[True, True, True, True],\n",
            "        [True, True, True, True],\n",
            "        [True, True, True, True]])\n"
          ]
        }
      ]
    },
    {
      "cell_type": "markdown",
      "source": [
        "## Running tensors and PyTorch objects on the GPUs (and making faster computations)\n",
        "\n",
        "GPUs = faster computation on numbers, thanks CUDA + NVIDIA hardware + PyTorch working behind the scenes to make everything good"
      ],
      "metadata": {
        "id": "sI3zsKligomd"
      }
    },
    {
      "cell_type": "markdown",
      "source": [
        "### 1. Getting a GPU\n",
        "\n",
        "1. Easiest - Use google colab for a free\n",
        "2. Use your own GPU. There are lots of options, but they can be pretty pricy and need some setup\n",
        "3. Use cloud computing - GCP, AWS, Azure, these services allow you to rent computers on the cloud and access them\n",
        "\n",
        "For 2, 3 PyTorch + GPU drivers (CUDA) takes a little bit of setting up, to do this, refer to PyTorch setup documentation:"
      ],
      "metadata": {
        "id": "wXJrOozJh2AN"
      }
    },
    {
      "cell_type": "code",
      "source": [
        "### 2. Check for GPU access with PyTorch"
      ],
      "metadata": {
        "colab": {
          "base_uri": "https://localhost:8080/"
        },
        "id": "r4X6ofIYieII",
        "outputId": "4af54845-17e3-4c97-9df9-27f374c8ff9d"
      },
      "execution_count": null,
      "outputs": [
        {
          "output_type": "stream",
          "name": "stdout",
          "text": [
            "/bin/bash: line 1: nvidia-smi: command not found\n"
          ]
        }
      ]
    },
    {
      "cell_type": "code",
      "source": [
        "torch.cuda.is_available()"
      ],
      "metadata": {
        "colab": {
          "base_uri": "https://localhost:8080/"
        },
        "id": "ok_grZj6i6KF",
        "outputId": "b83d89ae-e603-4c0e-f555-1aefc53974e6"
      },
      "execution_count": null,
      "outputs": [
        {
          "output_type": "execute_result",
          "data": {
            "text/plain": [
              "False"
            ]
          },
          "metadata": {},
          "execution_count": 203
        }
      ]
    },
    {
      "cell_type": "code",
      "source": [
        "device = 'cuda' if torch.cuda.is_available() else 'cpu'\n",
        "device"
      ],
      "metadata": {
        "colab": {
          "base_uri": "https://localhost:8080/",
          "height": 35
        },
        "id": "JeC-h2Q6jdu1",
        "outputId": "420a6d12-c098-4de0-c6ef-4958f3f7df87"
      },
      "execution_count": null,
      "outputs": [
        {
          "output_type": "execute_result",
          "data": {
            "text/plain": [
              "'cpu'"
            ],
            "application/vnd.google.colaboratory.intrinsic+json": {
              "type": "string"
            }
          },
          "metadata": {},
          "execution_count": 204
        }
      ]
    },
    {
      "cell_type": "code",
      "source": [
        "torch.cuda.device_count()"
      ],
      "metadata": {
        "colab": {
          "base_uri": "https://localhost:8080/"
        },
        "id": "m2ar6g9bjt7R",
        "outputId": "8ac4cf5c-e495-44c7-a62a-3ba66c27adde"
      },
      "execution_count": null,
      "outputs": [
        {
          "output_type": "execute_result",
          "data": {
            "text/plain": [
              "0"
            ]
          },
          "metadata": {},
          "execution_count": 205
        }
      ]
    },
    {
      "cell_type": "markdown",
      "source": [
        "### 3. Putting tensors (and models) on teh GPU\n",
        "GPUs are fsater than cpus!"
      ],
      "metadata": {
        "id": "EoDQPuXgj6V9"
      }
    },
    {
      "cell_type": "code",
      "source": [
        "torch = torch.tensor([1,2,3])\n",
        "\n",
        "print(tensor, tensor.device)"
      ],
      "metadata": {
        "colab": {
          "base_uri": "https://localhost:8080/"
        },
        "id": "qO_UmZ6ckN8j",
        "outputId": "6f820f6a-4561-415a-ccda-b1e3acac49d0"
      },
      "execution_count": null,
      "outputs": [
        {
          "output_type": "stream",
          "name": "stdout",
          "text": [
            "tensor([1., 1., 1., 1., 1., 1., 1.]) cpu\n"
          ]
        }
      ]
    },
    {
      "cell_type": "code",
      "source": [
        "# Move tensor to gpu if available\n",
        "tensor_on_gpu = tensor.to(device)\n",
        "tensor_on_gpu.device"
      ],
      "metadata": {
        "colab": {
          "base_uri": "https://localhost:8080/"
        },
        "id": "8LHRrKeOkVHy",
        "outputId": "9b6db5eb-004f-48f7-bfdf-10850be047ae"
      },
      "execution_count": null,
      "outputs": [
        {
          "output_type": "execute_result",
          "data": {
            "text/plain": [
              "device(type='cpu')"
            ]
          },
          "metadata": {},
          "execution_count": 208
        }
      ]
    },
    {
      "cell_type": "markdown",
      "source": [
        "### 4. Move tensors back to cpu"
      ],
      "metadata": {
        "id": "_DHNEJ80kbt6"
      }
    },
    {
      "cell_type": "code",
      "source": [
        "# If tensor on gpu, cant transform to numpy. Since the gpu is not available, the below code works\n",
        "tensor_on_gpu.numpy()"
      ],
      "metadata": {
        "colab": {
          "base_uri": "https://localhost:8080/"
        },
        "id": "bkjYybqmklcg",
        "outputId": "cd16605c-2851-435c-ec2f-d30db00f2349"
      },
      "execution_count": null,
      "outputs": [
        {
          "output_type": "execute_result",
          "data": {
            "text/plain": [
              "array([1., 1., 1., 1., 1., 1., 1.], dtype=float32)"
            ]
          },
          "metadata": {},
          "execution_count": 209
        }
      ]
    },
    {
      "cell_type": "code",
      "source": [],
      "metadata": {
        "id": "eLN6xkkOknvv"
      },
      "execution_count": null,
      "outputs": []
    }
  ]
}